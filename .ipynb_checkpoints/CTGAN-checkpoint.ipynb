{
 "cells": [
  {
   "cell_type": "markdown",
   "metadata": {
    "colab_type": "text",
    "id": "view-in-github"
   },
   "source": [
    "<a href=\"https://colab.research.google.com/github/37stu37/GNS_GAN/blob/master/CTGAN.ipynb\" target=\"_parent\"><img src=\"https://colab.research.google.com/assets/colab-badge.svg\" alt=\"Open In Colab\"/></a>"
   ]
  },
  {
   "cell_type": "code",
   "execution_count": 11,
   "metadata": {
    "colab": {
     "base_uri": "https://localhost:8080/",
     "height": 34
    },
    "colab_type": "code",
    "id": "w3qhqVuNUtMm",
    "outputId": "84c2799b-bc96-472a-b2ab-62c34b70b0b2"
   },
   "outputs": [
    {
     "name": "stdout",
     "output_type": "stream",
     "text": [
      "/Users/alex/PycharmProjects/GNS_GAN\n"
     ]
    }
   ],
   "source": [
    "!pwd"
   ]
  },
  {
   "cell_type": "code",
   "execution_count": 12,
   "metadata": {
    "colab": {
     "base_uri": "https://localhost:8080/",
     "height": 68
    },
    "colab_type": "code",
    "id": "Pl95TI2zUmc6",
    "outputId": "de2d9e69-d3e5-433d-d298-afff781384bb"
   },
   "outputs": [],
   "source": [
    "# ! git clone https://github.com/37stu37/GNS_GAN.git\n",
    "# !git pull"
   ]
  },
  {
   "cell_type": "code",
   "execution_count": 13,
   "metadata": {
    "colab": {
     "base_uri": "https://localhost:8080/",
     "height": 34
    },
    "colab_type": "code",
    "id": "QW-ThT3VU_YS",
    "outputId": "58c9ac54-a233-4488-bef6-479f0351e1cc"
   },
   "outputs": [],
   "source": [
    "# %cd /content/drive/My Drive/Colab Notebooks/GNS_GAN/"
   ]
  },
  {
   "cell_type": "code",
   "execution_count": 14,
   "metadata": {
    "colab": {},
    "colab_type": "code",
    "id": "lR-p3E2IT32X"
   },
   "outputs": [
    {
     "name": "stdout",
     "output_type": "stream",
     "text": [
      "Requirement already up-to-date: pandas in /Users/alex/anaconda3/lib/python3.7/site-packages (1.0.4)\n",
      "Requirement already satisfied, skipping upgrade: numpy>=1.13.3 in /Users/alex/anaconda3/lib/python3.7/site-packages (from pandas) (1.18.1)\n",
      "Requirement already satisfied, skipping upgrade: python-dateutil>=2.6.1 in /Users/alex/anaconda3/lib/python3.7/site-packages (from pandas) (2.8.1)\n",
      "Requirement already satisfied, skipping upgrade: pytz>=2017.2 in /Users/alex/anaconda3/lib/python3.7/site-packages (from pandas) (2020.1)\n",
      "Requirement already satisfied, skipping upgrade: six>=1.5 in /Users/alex/anaconda3/lib/python3.7/site-packages (from python-dateutil>=2.6.1->pandas) (1.14.0)\n"
     ]
    }
   ],
   "source": [
    "# %%capture\n",
    "# pip install ctgan\n",
    "!pip install --upgrade pandas"
   ]
  },
  {
   "cell_type": "code",
   "execution_count": null,
   "metadata": {
    "collapsed": true,
    "jupyter": {
     "outputs_hidden": true,
     "source_hidden": true
    }
   },
   "outputs": [
    {
     "name": "stdout",
     "output_type": "stream",
     "text": [
      "Found existing installation: pandas 1.0.4\n",
      "Uninstalling pandas-1.0.4:\n",
      "  Would remove:\n",
      "    /Users/alex/anaconda3/lib/python3.7/site-packages/pandas-1.0.4.dist-info/*\n",
      "    /Users/alex/anaconda3/lib/python3.7/site-packages/pandas/*\n",
      "  Would not remove (might be manually added):\n",
      "    /Users/alex/anaconda3/lib/python3.7/site-packages/pandas/compat/chainmap_impl.py\n",
      "    /Users/alex/anaconda3/lib/python3.7/site-packages/pandas/core/categorical.py\n",
      "    /Users/alex/anaconda3/lib/python3.7/site-packages/pandas/core/config.py\n",
      "    /Users/alex/anaconda3/lib/python3.7/site-packages/pandas/core/ops.py\n",
      "    /Users/alex/anaconda3/lib/python3.7/site-packages/pandas/core/panel.py\n",
      "    /Users/alex/anaconda3/lib/python3.7/site-packages/pandas/io/excel.py\n",
      "    /Users/alex/anaconda3/lib/python3.7/site-packages/pandas/io/formats/terminal.py\n",
      "    /Users/alex/anaconda3/lib/python3.7/site-packages/pandas/io/json/json.py\n",
      "    /Users/alex/anaconda3/lib/python3.7/site-packages/pandas/io/json/normalize.py\n",
      "    /Users/alex/anaconda3/lib/python3.7/site-packages/pandas/io/json/table_schema.py\n",
      "    /Users/alex/anaconda3/lib/python3.7/site-packages/pandas/plotting/_compat.py\n",
      "    /Users/alex/anaconda3/lib/python3.7/site-packages/pandas/plotting/_converter.py\n",
      "    /Users/alex/anaconda3/lib/python3.7/site-packages/pandas/plotting/_style.py\n",
      "    /Users/alex/anaconda3/lib/python3.7/site-packages/pandas/plotting/_timeseries.py\n",
      "    /Users/alex/anaconda3/lib/python3.7/site-packages/pandas/plotting/_tools.py\n",
      "    /Users/alex/anaconda3/lib/python3.7/site-packages/pandas/tests/extension/numpy_/__init__.py\n",
      "    /Users/alex/anaconda3/lib/python3.7/site-packages/pandas/tests/extension/numpy_/conftest.py\n",
      "    /Users/alex/anaconda3/lib/python3.7/site-packages/pandas/tests/extension/numpy_/test_numpy.py\n",
      "    /Users/alex/anaconda3/lib/python3.7/site-packages/pandas/tests/extension/numpy_/test_numpy_nested.py\n",
      "    /Users/alex/anaconda3/lib/python3.7/site-packages/pandas/tests/generic/test_panel.py\n",
      "    /Users/alex/anaconda3/lib/python3.7/site-packages/pandas/tests/indexing/multiindex/test_panel.py\n",
      "    /Users/alex/anaconda3/lib/python3.7/site-packages/pandas/tests/indexing/test_panel.py\n",
      "    /Users/alex/anaconda3/lib/python3.7/site-packages/pandas/tests/io/test_excel.py\n",
      "    /Users/alex/anaconda3/lib/python3.7/site-packages/pandas/tests/io/test_pytables.py\n",
      "    /Users/alex/anaconda3/lib/python3.7/site-packages/pandas/tests/test_config.py\n",
      "    /Users/alex/anaconda3/lib/python3.7/site-packages/pandas/tests/test_panel.py\n",
      "    /Users/alex/anaconda3/lib/python3.7/site-packages/pandas/tests/test_window.py\n",
      "    /Users/alex/anaconda3/lib/python3.7/site-packages/pandas/tests/tseries/test_frequencies.py\n",
      "    /Users/alex/anaconda3/lib/python3.7/site-packages/pandas/tests/tseries/test_holiday.py\n",
      "    /Users/alex/anaconda3/lib/python3.7/site-packages/pandas/tests/util/test_locale.py\n",
      "Proceed (y/n)? "
     ]
    }
   ],
   "source": [
    "# !pip uninstall pandas\n",
    "# !pip install pandas"
   ]
  },
  {
   "cell_type": "code",
   "execution_count": 16,
   "metadata": {
    "colab": {
     "base_uri": "https://localhost:8080/",
     "height": 34
    },
    "colab_type": "code",
    "collapsed": true,
    "id": "qX-bU-LqawwQ",
    "jupyter": {
     "outputs_hidden": true
    },
    "outputId": "d2b0d31a-5609-4a9c-d1e7-f5ac153a11e7"
   },
   "outputs": [
    {
     "ename": "ImportError",
     "evalue": "cannot import name '_np_version_under1p18' from 'pandas.compat.numpy' (/Users/alex/anaconda3/lib/python3.7/site-packages/pandas/compat/numpy/__init__.py)",
     "output_type": "error",
     "traceback": [
      "\u001b[0;31m---------------------------------------------------------------------------\u001b[0m",
      "\u001b[0;31mImportError\u001b[0m                               Traceback (most recent call last)",
      "\u001b[0;32m<ipython-input-16-f6267bb1dc98>\u001b[0m in \u001b[0;36m<module>\u001b[0;34m\u001b[0m\n\u001b[1;32m      1\u001b[0m \u001b[0;31m# import seaborn as sns\u001b[0m\u001b[0;34m\u001b[0m\u001b[0;34m\u001b[0m\u001b[0;34m\u001b[0m\u001b[0m\n\u001b[1;32m      2\u001b[0m \u001b[0;32mimport\u001b[0m \u001b[0mscipy\u001b[0m\u001b[0;34m.\u001b[0m\u001b[0mstats\u001b[0m \u001b[0;32mas\u001b[0m \u001b[0mstats\u001b[0m\u001b[0;34m\u001b[0m\u001b[0;34m\u001b[0m\u001b[0m\n\u001b[0;32m----> 3\u001b[0;31m \u001b[0;32mimport\u001b[0m \u001b[0mpandas\u001b[0m \u001b[0;32mas\u001b[0m \u001b[0mpd\u001b[0m\u001b[0;34m\u001b[0m\u001b[0;34m\u001b[0m\u001b[0m\n\u001b[0m\u001b[1;32m      4\u001b[0m \u001b[0;32mimport\u001b[0m \u001b[0mtime\u001b[0m\u001b[0;34m\u001b[0m\u001b[0;34m\u001b[0m\u001b[0m\n",
      "\u001b[0;32m~/anaconda3/lib/python3.7/site-packages/pandas/__init__.py\u001b[0m in \u001b[0;36m<module>\u001b[0;34m\u001b[0m\n\u001b[1;32m     20\u001b[0m \u001b[0;34m\u001b[0m\u001b[0m\n\u001b[1;32m     21\u001b[0m \u001b[0;31m# numpy compat\u001b[0m\u001b[0;34m\u001b[0m\u001b[0;34m\u001b[0m\u001b[0;34m\u001b[0m\u001b[0m\n\u001b[0;32m---> 22\u001b[0;31m from pandas.compat.numpy import (\n\u001b[0m\u001b[1;32m     23\u001b[0m     \u001b[0m_np_version_under1p14\u001b[0m\u001b[0;34m,\u001b[0m\u001b[0;34m\u001b[0m\u001b[0;34m\u001b[0m\u001b[0m\n\u001b[1;32m     24\u001b[0m     \u001b[0m_np_version_under1p15\u001b[0m\u001b[0;34m,\u001b[0m\u001b[0;34m\u001b[0m\u001b[0;34m\u001b[0m\u001b[0m\n",
      "\u001b[0;31mImportError\u001b[0m: cannot import name '_np_version_under1p18' from 'pandas.compat.numpy' (/Users/alex/anaconda3/lib/python3.7/site-packages/pandas/compat/numpy/__init__.py)"
     ]
    }
   ],
   "source": [
    "# import seaborn as sns\n",
    "import scipy.stats as stats\n",
    "import pandas as pd\n",
    "import time"
   ]
  },
  {
   "cell_type": "code",
   "execution_count": 10,
   "metadata": {
    "colab": {
     "base_uri": "https://localhost:8080/",
     "height": 119
    },
    "colab_type": "code",
    "collapsed": true,
    "id": "_WpR7EFCWKfv",
    "jupyter": {
     "outputs_hidden": true
    },
    "outputId": "36ed55d8-ea5c-42b1-bb55-c5a68aaa5e31"
   },
   "outputs": [
    {
     "ename": "NameError",
     "evalue": "name 'pd' is not defined",
     "output_type": "error",
     "traceback": [
      "\u001b[0;31m---------------------------------------------------------------------------\u001b[0m",
      "\u001b[0;31mNameError\u001b[0m                                 Traceback (most recent call last)",
      "\u001b[0;32m<ipython-input-10-800f9ba047fc>\u001b[0m in \u001b[0;36m<module>\u001b[0;34m\u001b[0m\n\u001b[0;32m----> 1\u001b[0;31m \u001b[0mdata\u001b[0m \u001b[0;34m=\u001b[0m \u001b[0mpd\u001b[0m\u001b[0;34m.\u001b[0m\u001b[0mread_csv\u001b[0m\u001b[0;34m(\u001b[0m\u001b[0;34m'FFEsample1perc.csv'\u001b[0m\u001b[0;34m)\u001b[0m\u001b[0;34m\u001b[0m\u001b[0;34m\u001b[0m\u001b[0m\n\u001b[0m\u001b[1;32m      2\u001b[0m \u001b[0mdata\u001b[0m\u001b[0;34m.\u001b[0m\u001b[0mcolumns\u001b[0m\u001b[0;34m\u001b[0m\u001b[0;34m\u001b[0m\u001b[0m\n\u001b[1;32m      3\u001b[0m \u001b[0mdata\u001b[0m\u001b[0;34m.\u001b[0m\u001b[0mdrop\u001b[0m\u001b[0;34m(\u001b[0m\u001b[0;34m[\u001b[0m\u001b[0;34m'Unnamed: 0'\u001b[0m\u001b[0;34m,\u001b[0m \u001b[0;34m'scenario'\u001b[0m\u001b[0;34m,\u001b[0m \u001b[0;34m'pid'\u001b[0m\u001b[0;34m]\u001b[0m\u001b[0;34m,\u001b[0m \u001b[0maxis\u001b[0m\u001b[0;34m=\u001b[0m\u001b[0;36m1\u001b[0m\u001b[0;34m,\u001b[0m \u001b[0minplace\u001b[0m\u001b[0;34m=\u001b[0m\u001b[0;32mTrue\u001b[0m\u001b[0;34m)\u001b[0m\u001b[0;34m\u001b[0m\u001b[0;34m\u001b[0m\u001b[0m\n",
      "\u001b[0;31mNameError\u001b[0m: name 'pd' is not defined"
     ]
    }
   ],
   "source": [
    "data = pd.read_csv('FFEsample1perc.csv')\n",
    "data.columns\n",
    "data.drop(['Unnamed: 0', 'scenario', 'pid'], axis=1, inplace=True)"
   ]
  },
  {
   "cell_type": "code",
   "execution_count": null,
   "metadata": {},
   "outputs": [],
   "source": [
    "data = pd.read_csv('FFEsample1perc.csv')\n",
    "data.columns\n",
    "data.drop(['Unnamed: 0', 'scenario', 'pid'], axis=1, inplace=True)\n",
    "sample = data.sample(frac=0.01)\n",
    "discrete_columns = ['source', 'target']"
   ]
  },
  {
   "cell_type": "code",
   "execution_count": 8,
   "metadata": {
    "colab": {},
    "colab_type": "code",
    "collapsed": true,
    "id": "lR-p3E2IT32X",
    "jupyter": {
     "outputs_hidden": true
    }
   },
   "outputs": [
    {
     "name": "stdout",
     "output_type": "stream",
     "text": [
      "Collecting pandas\n",
      "  Downloading pandas-1.0.4-cp37-cp37m-macosx_10_9_x86_64.whl (10.0 MB)\n",
      "\u001b[K     |████████████████████████████████| 10.0 MB 9.8 MB/s eta 0:00:01\n",
      "\u001b[?25hRequirement already satisfied, skipping upgrade: python-dateutil>=2.6.1 in /Users/alex/anaconda3/lib/python3.7/site-packages (from pandas) (2.8.1)\n",
      "Requirement already satisfied, skipping upgrade: numpy>=1.13.3 in /Users/alex/anaconda3/lib/python3.7/site-packages (from pandas) (1.18.1)\n",
      "Requirement already satisfied, skipping upgrade: pytz>=2017.2 in /Users/alex/anaconda3/lib/python3.7/site-packages (from pandas) (2020.1)\n",
      "Requirement already satisfied, skipping upgrade: six>=1.5 in /Users/alex/anaconda3/lib/python3.7/site-packages (from python-dateutil>=2.6.1->pandas) (1.14.0)\n",
      "\u001b[31mERROR: ctgan 0.2.1 has requirement pandas<0.26,>=0.24, but you'll have pandas 1.0.4 which is incompatible.\u001b[0m\n",
      "Installing collected packages: pandas\n",
      "  Attempting uninstall: pandas\n",
      "    Found existing installation: pandas 0.25.3\n",
      "    Uninstalling pandas-0.25.3:\n",
      "      Successfully uninstalled pandas-0.25.3\n",
      "Successfully installed pandas-1.0.4\n"
     ]
    }
   ],
   "source": [
    "# %%capture\n",
    "!pip install ctgan\n",
    "# !pip install --upgrade pandas"
   ]
  },
  {
   "cell_type": "code",
   "execution_count": null,
   "metadata": {},
   "outputs": [],
   "source": [
    "import ctgan"
   ]
  },
  {
   "cell_type": "code",
   "execution_count": null,
   "metadata": {},
   "outputs": [],
   "source": [
    "ctgan = ctgan.CTGANSynthesizer()"
   ]
  },
  {
   "cell_type": "code",
   "execution_count": null,
   "metadata": {},
   "outputs": [],
   "source": [
    "ctgan.fit(data, discrete_columns, epochs=1)"
   ]
  },
  {
   "cell_type": "code",
   "execution_count": null,
   "metadata": {},
   "outputs": [],
   "source": [
    "GANsamples = ctgan.sample(1000)"
   ]
  },
  {
   "cell_type": "code",
   "execution_count": null,
   "metadata": {},
   "outputs": [],
   "source": [
    "print(\"{} epochs finished in {}\".format(e, endFit_time))"
   ]
  },
  {
   "cell_type": "code",
   "execution_count": null,
   "metadata": {},
   "outputs": [],
   "source": [
    "git commit -m \"whatever\""
   ]
  }
 ],
 "metadata": {
  "accelerator": "GPU",
  "colab": {
   "authorship_tag": "ABX9TyOb+tF9qcXqxShFjtDOngma",
   "include_colab_link": true,
   "mount_file_id": "13uqUmOPu_Fius2uDC331rzeIRoiRMDrJ",
   "name": "CTGAN.ipynb",
   "provenance": []
  },
  "kernelspec": {
   "display_name": "Python 3",
   "language": "python",
   "name": "python3"
  },
  "language_info": {
   "codemirror_mode": {
    "name": "ipython",
    "version": 3
   },
   "file_extension": ".py",
   "mimetype": "text/x-python",
   "name": "python",
   "nbconvert_exporter": "python",
   "pygments_lexer": "ipython3",
   "version": "3.7.3"
  }
 },
 "nbformat": 4,
 "nbformat_minor": 4
}
