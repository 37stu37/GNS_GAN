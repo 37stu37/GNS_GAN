{
 "cells": [
  {
   "cell_type": "markdown",
   "metadata": {
    "colab_type": "text",
    "id": "view-in-github"
   },
   "source": [
    "<a href=\"https://colab.research.google.com/github/37stu37/GNS_GAN/blob/master/CTGAN.ipynb\" target=\"_parent\"><img src=\"https://colab.research.google.com/assets/colab-badge.svg\" alt=\"Open In Colab\"/></a>"
   ]
  },
  {
   "cell_type": "code",
   "execution_count": 1,
   "metadata": {
    "colab": {
     "base_uri": "https://localhost:8080/",
     "height": 34
    },
    "colab_type": "code",
    "id": "w3qhqVuNUtMm",
    "outputId": "84c2799b-bc96-472a-b2ab-62c34b70b0b2"
   },
   "outputs": [
    {
     "name": "stdout",
     "output_type": "stream",
     "text": [
      "/Users/alex/PycharmProjects/GNS_GAN\n"
     ]
    }
   ],
   "source": [
    "!pwd"
   ]
  },
  {
   "cell_type": "code",
   "execution_count": 2,
   "metadata": {
    "colab": {
     "base_uri": "https://localhost:8080/",
     "height": 68
    },
    "colab_type": "code",
    "id": "Pl95TI2zUmc6",
    "outputId": "de2d9e69-d3e5-433d-d298-afff781384bb"
   },
   "outputs": [],
   "source": [
    "# ! git clone https://github.com/37stu37/GNS_GAN.git\n",
    "# !git pull"
   ]
  },
  {
   "cell_type": "code",
   "execution_count": 3,
   "metadata": {
    "colab": {
     "base_uri": "https://localhost:8080/",
     "height": 34
    },
    "colab_type": "code",
    "id": "QW-ThT3VU_YS",
    "outputId": "58c9ac54-a233-4488-bef6-479f0351e1cc"
   },
   "outputs": [],
   "source": [
    "# %cd /content/drive/My Drive/Colab Notebooks/GNS_GAN/"
   ]
  },
  {
   "cell_type": "code",
   "execution_count": 20,
   "metadata": {
    "colab": {},
    "colab_type": "code",
    "id": "lR-p3E2IT32X"
   },
   "outputs": [
    {
     "name": "stdout",
     "output_type": "stream",
     "text": [
      "Requirement already up-to-date: pip in /Users/alex/anaconda3/lib/python3.7/site-packages (20.1.1)\n",
      "Requirement already up-to-date: pandas in /Users/alex/anaconda3/lib/python3.7/site-packages (1.0.4)\n",
      "Requirement already satisfied, skipping upgrade: numpy>=1.13.3 in /Users/alex/anaconda3/lib/python3.7/site-packages (from pandas) (1.18.1)\n",
      "Requirement already satisfied, skipping upgrade: python-dateutil>=2.6.1 in /Users/alex/anaconda3/lib/python3.7/site-packages (from pandas) (2.8.1)\n",
      "Requirement already satisfied, skipping upgrade: pytz>=2017.2 in /Users/alex/anaconda3/lib/python3.7/site-packages (from pandas) (2020.1)\n",
      "Requirement already satisfied, skipping upgrade: six>=1.5 in /Users/alex/anaconda3/lib/python3.7/site-packages (from python-dateutil>=2.6.1->pandas) (1.14.0)\n",
      "Collecting ctgan-tf\n",
      "  Downloading ctgan-tf-0.1.4.tar.gz (34 kB)\n",
      "Requirement already satisfied: tensorflow<3.0,>=2.1.0 in /Users/alex/.local/lib/python3.7/site-packages (from ctgan-tf) (2.1.0)\n",
      "Collecting tensorflow-probability<1.0,>=0.9.0\n",
      "  Downloading tensorflow_probability-0.10.0-py2.py3-none-any.whl (3.5 MB)\n",
      "\u001b[K     |████████████████████████████████| 3.5 MB 2.2 MB/s eta 0:00:01\n",
      "\u001b[?25hRequirement already satisfied: scikit-learn<0.23,>=0.21 in /Users/alex/anaconda3/lib/python3.7/site-packages (from ctgan-tf) (0.22.1)\n",
      "Requirement already satisfied: numpy<2,>=1.17.4 in /Users/alex/anaconda3/lib/python3.7/site-packages (from ctgan-tf) (1.18.1)\n",
      "Collecting pandas<1.0.2,>=1.0\n",
      "  Using cached pandas-1.0.1-cp37-cp37m-macosx_10_9_x86_64.whl (9.8 MB)\n",
      "Collecting tqdm<4.44,>=4.43\n",
      "  Using cached tqdm-4.43.0-py2.py3-none-any.whl (59 kB)\n",
      "Requirement already satisfied: grpcio>=1.8.6 in /Users/alex/.local/lib/python3.7/site-packages (from tensorflow<3.0,>=2.1.0->ctgan-tf) (1.26.0)\n",
      "Requirement already satisfied: google-pasta>=0.1.6 in /Users/alex/.local/lib/python3.7/site-packages (from tensorflow<3.0,>=2.1.0->ctgan-tf) (0.1.8)\n",
      "Requirement already satisfied: keras-applications>=1.0.8 in /Users/alex/anaconda3/lib/python3.7/site-packages (from tensorflow<3.0,>=2.1.0->ctgan-tf) (1.0.8)\n",
      "Requirement already satisfied: opt-einsum>=2.3.2 in /Users/alex/.local/lib/python3.7/site-packages (from tensorflow<3.0,>=2.1.0->ctgan-tf) (3.1.0)\n",
      "Requirement already satisfied: absl-py>=0.7.0 in /Users/alex/.local/lib/python3.7/site-packages (from tensorflow<3.0,>=2.1.0->ctgan-tf) (0.9.0)\n",
      "Requirement already satisfied: six>=1.12.0 in /Users/alex/anaconda3/lib/python3.7/site-packages (from tensorflow<3.0,>=2.1.0->ctgan-tf) (1.14.0)\n",
      "Requirement already satisfied: protobuf>=3.8.0 in /Users/alex/.local/lib/python3.7/site-packages (from tensorflow<3.0,>=2.1.0->ctgan-tf) (3.11.3)\n",
      "Requirement already satisfied: tensorflow-estimator<2.2.0,>=2.1.0rc0 in /Users/alex/.local/lib/python3.7/site-packages (from tensorflow<3.0,>=2.1.0->ctgan-tf) (2.1.0)\n",
      "Requirement already satisfied: tensorboard<2.2.0,>=2.1.0 in /Users/alex/.local/lib/python3.7/site-packages (from tensorflow<3.0,>=2.1.0->ctgan-tf) (2.1.0)\n",
      "Requirement already satisfied: wrapt>=1.11.1 in /Users/alex/anaconda3/lib/python3.7/site-packages (from tensorflow<3.0,>=2.1.0->ctgan-tf) (1.11.2)\n",
      "Requirement already satisfied: gast==0.2.2 in /Users/alex/.local/lib/python3.7/site-packages (from tensorflow<3.0,>=2.1.0->ctgan-tf) (0.2.2)\n",
      "Requirement already satisfied: scipy==1.4.1; python_version >= \"3\" in /Users/alex/.local/lib/python3.7/site-packages (from tensorflow<3.0,>=2.1.0->ctgan-tf) (1.4.1)\n",
      "Requirement already satisfied: wheel>=0.26; python_version >= \"3\" in /Users/alex/anaconda3/lib/python3.7/site-packages (from tensorflow<3.0,>=2.1.0->ctgan-tf) (0.34.2)\n",
      "Requirement already satisfied: astor>=0.6.0 in /Users/alex/.local/lib/python3.7/site-packages (from tensorflow<3.0,>=2.1.0->ctgan-tf) (0.8.1)\n",
      "Requirement already satisfied: termcolor>=1.1.0 in /Users/alex/.local/lib/python3.7/site-packages (from tensorflow<3.0,>=2.1.0->ctgan-tf) (1.1.0)\n",
      "Requirement already satisfied: keras-preprocessing>=1.1.0 in /Users/alex/anaconda3/lib/python3.7/site-packages (from tensorflow<3.0,>=2.1.0->ctgan-tf) (1.1.0)\n",
      "Requirement already satisfied: cloudpickle>=1.2.2 in /Users/alex/anaconda3/lib/python3.7/site-packages (from tensorflow-probability<1.0,>=0.9.0->ctgan-tf) (1.4.1)\n",
      "Requirement already satisfied: decorator in /Users/alex/anaconda3/lib/python3.7/site-packages (from tensorflow-probability<1.0,>=0.9.0->ctgan-tf) (4.4.2)\n",
      "Requirement already satisfied: joblib>=0.11 in /Users/alex/anaconda3/lib/python3.7/site-packages (from scikit-learn<0.23,>=0.21->ctgan-tf) (0.14.1)\n",
      "Requirement already satisfied: pytz>=2017.2 in /Users/alex/anaconda3/lib/python3.7/site-packages (from pandas<1.0.2,>=1.0->ctgan-tf) (2020.1)\n",
      "Requirement already satisfied: python-dateutil>=2.6.1 in /Users/alex/anaconda3/lib/python3.7/site-packages (from pandas<1.0.2,>=1.0->ctgan-tf) (2.8.1)\n",
      "Requirement already satisfied: h5py in /Users/alex/anaconda3/lib/python3.7/site-packages (from keras-applications>=1.0.8->tensorflow<3.0,>=2.1.0->ctgan-tf) (2.10.0)\n",
      "Requirement already satisfied: setuptools in /Users/alex/anaconda3/lib/python3.7/site-packages (from protobuf>=3.8.0->tensorflow<3.0,>=2.1.0->ctgan-tf) (46.2.0.post20200511)\n",
      "Requirement already satisfied: requests<3,>=2.21.0 in /Users/alex/anaconda3/lib/python3.7/site-packages (from tensorboard<2.2.0,>=2.1.0->tensorflow<3.0,>=2.1.0->ctgan-tf) (2.23.0)\n",
      "Requirement already satisfied: werkzeug>=0.11.15 in /Users/alex/anaconda3/lib/python3.7/site-packages (from tensorboard<2.2.0,>=2.1.0->tensorflow<3.0,>=2.1.0->ctgan-tf) (1.0.1)\n",
      "Requirement already satisfied: markdown>=2.6.8 in /Users/alex/.local/lib/python3.7/site-packages (from tensorboard<2.2.0,>=2.1.0->tensorflow<3.0,>=2.1.0->ctgan-tf) (3.1.1)\n",
      "Requirement already satisfied: google-auth-oauthlib<0.5,>=0.4.1 in /Users/alex/.local/lib/python3.7/site-packages (from tensorboard<2.2.0,>=2.1.0->tensorflow<3.0,>=2.1.0->ctgan-tf) (0.4.1)\n",
      "Requirement already satisfied: google-auth<2,>=1.6.3 in /Users/alex/.local/lib/python3.7/site-packages (from tensorboard<2.2.0,>=2.1.0->tensorflow<3.0,>=2.1.0->ctgan-tf) (1.11.0)\n",
      "Requirement already satisfied: certifi>=2017.4.17 in /Users/alex/anaconda3/lib/python3.7/site-packages (from requests<3,>=2.21.0->tensorboard<2.2.0,>=2.1.0->tensorflow<3.0,>=2.1.0->ctgan-tf) (2020.4.5.1)\n",
      "Requirement already satisfied: chardet<4,>=3.0.2 in /Users/alex/anaconda3/lib/python3.7/site-packages (from requests<3,>=2.21.0->tensorboard<2.2.0,>=2.1.0->tensorflow<3.0,>=2.1.0->ctgan-tf) (3.0.4)\n",
      "Requirement already satisfied: urllib3!=1.25.0,!=1.25.1,<1.26,>=1.21.1 in /Users/alex/anaconda3/lib/python3.7/site-packages (from requests<3,>=2.21.0->tensorboard<2.2.0,>=2.1.0->tensorflow<3.0,>=2.1.0->ctgan-tf) (1.25.8)\n",
      "Requirement already satisfied: idna<3,>=2.5 in /Users/alex/anaconda3/lib/python3.7/site-packages (from requests<3,>=2.21.0->tensorboard<2.2.0,>=2.1.0->tensorflow<3.0,>=2.1.0->ctgan-tf) (2.9)\n",
      "Requirement already satisfied: requests-oauthlib>=0.7.0 in /Users/alex/.local/lib/python3.7/site-packages (from google-auth-oauthlib<0.5,>=0.4.1->tensorboard<2.2.0,>=2.1.0->tensorflow<3.0,>=2.1.0->ctgan-tf) (1.3.0)\n",
      "Requirement already satisfied: rsa<4.1,>=3.1.4 in /Users/alex/.local/lib/python3.7/site-packages (from google-auth<2,>=1.6.3->tensorboard<2.2.0,>=2.1.0->tensorflow<3.0,>=2.1.0->ctgan-tf) (4.0)\n",
      "Requirement already satisfied: pyasn1-modules>=0.2.1 in /Users/alex/.local/lib/python3.7/site-packages (from google-auth<2,>=1.6.3->tensorboard<2.2.0,>=2.1.0->tensorflow<3.0,>=2.1.0->ctgan-tf) (0.2.8)\n",
      "Requirement already satisfied: cachetools<5.0,>=2.0.0 in /Users/alex/.local/lib/python3.7/site-packages (from google-auth<2,>=1.6.3->tensorboard<2.2.0,>=2.1.0->tensorflow<3.0,>=2.1.0->ctgan-tf) (4.0.0)\n",
      "Requirement already satisfied: oauthlib>=3.0.0 in /Users/alex/.local/lib/python3.7/site-packages (from requests-oauthlib>=0.7.0->google-auth-oauthlib<0.5,>=0.4.1->tensorboard<2.2.0,>=2.1.0->tensorflow<3.0,>=2.1.0->ctgan-tf) (3.1.0)\n",
      "Requirement already satisfied: pyasn1>=0.1.3 in /Users/alex/.local/lib/python3.7/site-packages (from rsa<4.1,>=3.1.4->google-auth<2,>=1.6.3->tensorboard<2.2.0,>=2.1.0->tensorflow<3.0,>=2.1.0->ctgan-tf) (0.4.8)\n",
      "Building wheels for collected packages: ctgan-tf\n",
      "  Building wheel for ctgan-tf (setup.py) ... \u001b[?25ldone\n",
      "\u001b[?25h  Created wheel for ctgan-tf: filename=ctgan_tf-0.1.4-py3-none-any.whl size=47651 sha256=c03d391217ce45145c72ca9362d6c73d873010c71912a9a5bd9aedbf7f1ae9c9\n",
      "  Stored in directory: /Users/alex/Library/Caches/pip/wheels/51/f7/59/5ddde759e0db5a11f8598a5879c7abf6acb06fd44493763119\n",
      "Successfully built ctgan-tf\n",
      "\u001b[31mERROR: ctgan 0.2.1 has requirement pandas<0.26,>=0.24, but you'll have pandas 1.0.1 which is incompatible.\u001b[0m\n",
      "\u001b[31mERROR: tensorflow-probability 0.10.0 has requirement gast>=0.3.2, but you'll have gast 0.2.2 which is incompatible.\u001b[0m\n",
      "Installing collected packages: tensorflow-probability, pandas, tqdm, ctgan-tf\n",
      "  Attempting uninstall: pandas\n",
      "    Found existing installation: pandas 1.0.4\n",
      "    Uninstalling pandas-1.0.4:\n",
      "      Successfully uninstalled pandas-1.0.4\n",
      "  Attempting uninstall: tqdm\n",
      "    Found existing installation: tqdm 4.46.0\n",
      "    Uninstalling tqdm-4.46.0:\n",
      "      Successfully uninstalled tqdm-4.46.0\n",
      "Successfully installed ctgan-tf-0.1.4 pandas-1.0.1 tensorflow-probability-0.10.0 tqdm-4.43.0\n"
     ]
    }
   ],
   "source": [
    "# %%capture\n",
    "# pip install ctgan\n",
    "!pip install --upgrade pip\n",
    "!pip install --upgrade pandas\n",
    "!pip install ctgan-tf"
   ]
  },
  {
   "cell_type": "code",
   "execution_count": null,
   "metadata": {
    "collapsed": true,
    "jupyter": {
     "outputs_hidden": true,
     "source_hidden": true
    }
   },
   "outputs": [
    {
     "name": "stdout",
     "output_type": "stream",
     "text": [
      "Found existing installation: pandas 1.0.4\n",
      "Uninstalling pandas-1.0.4:\n",
      "  Would remove:\n",
      "    /Users/alex/anaconda3/lib/python3.7/site-packages/pandas-1.0.4.dist-info/*\n",
      "    /Users/alex/anaconda3/lib/python3.7/site-packages/pandas/*\n",
      "  Would not remove (might be manually added):\n",
      "    /Users/alex/anaconda3/lib/python3.7/site-packages/pandas/compat/chainmap_impl.py\n",
      "    /Users/alex/anaconda3/lib/python3.7/site-packages/pandas/core/categorical.py\n",
      "    /Users/alex/anaconda3/lib/python3.7/site-packages/pandas/core/config.py\n",
      "    /Users/alex/anaconda3/lib/python3.7/site-packages/pandas/core/ops.py\n",
      "    /Users/alex/anaconda3/lib/python3.7/site-packages/pandas/core/panel.py\n",
      "    /Users/alex/anaconda3/lib/python3.7/site-packages/pandas/io/excel.py\n",
      "    /Users/alex/anaconda3/lib/python3.7/site-packages/pandas/io/formats/terminal.py\n",
      "    /Users/alex/anaconda3/lib/python3.7/site-packages/pandas/io/json/json.py\n",
      "    /Users/alex/anaconda3/lib/python3.7/site-packages/pandas/io/json/normalize.py\n",
      "    /Users/alex/anaconda3/lib/python3.7/site-packages/pandas/io/json/table_schema.py\n",
      "    /Users/alex/anaconda3/lib/python3.7/site-packages/pandas/plotting/_compat.py\n",
      "    /Users/alex/anaconda3/lib/python3.7/site-packages/pandas/plotting/_converter.py\n",
      "    /Users/alex/anaconda3/lib/python3.7/site-packages/pandas/plotting/_style.py\n",
      "    /Users/alex/anaconda3/lib/python3.7/site-packages/pandas/plotting/_timeseries.py\n",
      "    /Users/alex/anaconda3/lib/python3.7/site-packages/pandas/plotting/_tools.py\n",
      "    /Users/alex/anaconda3/lib/python3.7/site-packages/pandas/tests/extension/numpy_/__init__.py\n",
      "    /Users/alex/anaconda3/lib/python3.7/site-packages/pandas/tests/extension/numpy_/conftest.py\n",
      "    /Users/alex/anaconda3/lib/python3.7/site-packages/pandas/tests/extension/numpy_/test_numpy.py\n",
      "    /Users/alex/anaconda3/lib/python3.7/site-packages/pandas/tests/extension/numpy_/test_numpy_nested.py\n",
      "    /Users/alex/anaconda3/lib/python3.7/site-packages/pandas/tests/generic/test_panel.py\n",
      "    /Users/alex/anaconda3/lib/python3.7/site-packages/pandas/tests/indexing/multiindex/test_panel.py\n",
      "    /Users/alex/anaconda3/lib/python3.7/site-packages/pandas/tests/indexing/test_panel.py\n",
      "    /Users/alex/anaconda3/lib/python3.7/site-packages/pandas/tests/io/test_excel.py\n",
      "    /Users/alex/anaconda3/lib/python3.7/site-packages/pandas/tests/io/test_pytables.py\n",
      "    /Users/alex/anaconda3/lib/python3.7/site-packages/pandas/tests/test_config.py\n",
      "    /Users/alex/anaconda3/lib/python3.7/site-packages/pandas/tests/test_panel.py\n",
      "    /Users/alex/anaconda3/lib/python3.7/site-packages/pandas/tests/test_window.py\n",
      "    /Users/alex/anaconda3/lib/python3.7/site-packages/pandas/tests/tseries/test_frequencies.py\n",
      "    /Users/alex/anaconda3/lib/python3.7/site-packages/pandas/tests/tseries/test_holiday.py\n",
      "    /Users/alex/anaconda3/lib/python3.7/site-packages/pandas/tests/util/test_locale.py\n",
      "Proceed (y/n)? "
     ]
    }
   ],
   "source": [
    "# !pip uninstall pandas\n",
    "# !pip install pandas"
   ]
  },
  {
   "cell_type": "code",
   "execution_count": 21,
   "metadata": {
    "colab": {
     "base_uri": "https://localhost:8080/",
     "height": 34
    },
    "colab_type": "code",
    "id": "qX-bU-LqawwQ",
    "outputId": "d2b0d31a-5609-4a9c-d1e7-f5ac153a11e7"
   },
   "outputs": [],
   "source": [
    "# import seaborn as sns\n",
    "import scipy.stats as stats\n",
    "import pandas as pd\n",
    "import time"
   ]
  },
  {
   "cell_type": "code",
   "execution_count": 22,
   "metadata": {
    "colab": {
     "base_uri": "https://localhost:8080/",
     "height": 119
    },
    "colab_type": "code",
    "id": "_WpR7EFCWKfv",
    "outputId": "36ed55d8-ea5c-42b1-bb55-c5a68aaa5e31"
   },
   "outputs": [],
   "source": [
    "data = pd.read_csv('FFEsample1perc.csv')\n",
    "data.columns\n",
    "data.drop(['Unnamed: 0', 'scenario', 'pid'], axis=1, inplace=True)"
   ]
  },
  {
   "cell_type": "code",
   "execution_count": 23,
   "metadata": {},
   "outputs": [
    {
     "data": {
      "text/html": [
       "<div>\n",
       "<style scoped>\n",
       "    .dataframe tbody tr th:only-of-type {\n",
       "        vertical-align: middle;\n",
       "    }\n",
       "\n",
       "    .dataframe tbody tr th {\n",
       "        vertical-align: top;\n",
       "    }\n",
       "\n",
       "    .dataframe thead th {\n",
       "        text-align: right;\n",
       "    }\n",
       "</style>\n",
       "<table border=\"1\" class=\"dataframe\">\n",
       "  <thead>\n",
       "    <tr style=\"text-align: right;\">\n",
       "      <th></th>\n",
       "      <th>source</th>\n",
       "      <th>target</th>\n",
       "      <th>distance</th>\n",
       "      <th>bearing</th>\n",
       "      <th>IgnProb_bl</th>\n",
       "    </tr>\n",
       "  </thead>\n",
       "  <tbody>\n",
       "    <tr>\n",
       "      <th>0</th>\n",
       "      <td>55356</td>\n",
       "      <td>55479</td>\n",
       "      <td>20.211250</td>\n",
       "      <td>5.039837</td>\n",
       "      <td>0.000136</td>\n",
       "    </tr>\n",
       "    <tr>\n",
       "      <th>1</th>\n",
       "      <td>1604</td>\n",
       "      <td>17115</td>\n",
       "      <td>17.189345</td>\n",
       "      <td>43.597082</td>\n",
       "      <td>0.000061</td>\n",
       "    </tr>\n",
       "    <tr>\n",
       "      <th>2</th>\n",
       "      <td>7052</td>\n",
       "      <td>7051</td>\n",
       "      <td>3.093519</td>\n",
       "      <td>106.346047</td>\n",
       "      <td>0.000142</td>\n",
       "    </tr>\n",
       "    <tr>\n",
       "      <th>3</th>\n",
       "      <td>28782</td>\n",
       "      <td>28719</td>\n",
       "      <td>13.950330</td>\n",
       "      <td>39.906897</td>\n",
       "      <td>0.000647</td>\n",
       "    </tr>\n",
       "    <tr>\n",
       "      <th>4</th>\n",
       "      <td>28438</td>\n",
       "      <td>28531</td>\n",
       "      <td>14.738200</td>\n",
       "      <td>109.850242</td>\n",
       "      <td>0.000647</td>\n",
       "    </tr>\n",
       "    <tr>\n",
       "      <th>...</th>\n",
       "      <td>...</td>\n",
       "      <td>...</td>\n",
       "      <td>...</td>\n",
       "      <td>...</td>\n",
       "      <td>...</td>\n",
       "    </tr>\n",
       "    <tr>\n",
       "      <th>565595</th>\n",
       "      <td>30047</td>\n",
       "      <td>30046</td>\n",
       "      <td>4.525212</td>\n",
       "      <td>41.025210</td>\n",
       "      <td>0.003400</td>\n",
       "    </tr>\n",
       "    <tr>\n",
       "      <th>565596</th>\n",
       "      <td>21654</td>\n",
       "      <td>21676</td>\n",
       "      <td>7.999251</td>\n",
       "      <td>140.701181</td>\n",
       "      <td>0.000439</td>\n",
       "    </tr>\n",
       "    <tr>\n",
       "      <th>565597</th>\n",
       "      <td>28825</td>\n",
       "      <td>28817</td>\n",
       "      <td>13.250442</td>\n",
       "      <td>250.350720</td>\n",
       "      <td>0.000647</td>\n",
       "    </tr>\n",
       "    <tr>\n",
       "      <th>565598</th>\n",
       "      <td>66613</td>\n",
       "      <td>66621</td>\n",
       "      <td>14.453403</td>\n",
       "      <td>6.839251</td>\n",
       "      <td>0.000511</td>\n",
       "    </tr>\n",
       "    <tr>\n",
       "      <th>565599</th>\n",
       "      <td>53453</td>\n",
       "      <td>53558</td>\n",
       "      <td>9.403179</td>\n",
       "      <td>9.790645</td>\n",
       "      <td>0.001096</td>\n",
       "    </tr>\n",
       "  </tbody>\n",
       "</table>\n",
       "<p>565600 rows × 5 columns</p>\n",
       "</div>"
      ],
      "text/plain": [
       "        source  target   distance     bearing  IgnProb_bl\n",
       "0        55356   55479  20.211250    5.039837    0.000136\n",
       "1         1604   17115  17.189345   43.597082    0.000061\n",
       "2         7052    7051   3.093519  106.346047    0.000142\n",
       "3        28782   28719  13.950330   39.906897    0.000647\n",
       "4        28438   28531  14.738200  109.850242    0.000647\n",
       "...        ...     ...        ...         ...         ...\n",
       "565595   30047   30046   4.525212   41.025210    0.003400\n",
       "565596   21654   21676   7.999251  140.701181    0.000439\n",
       "565597   28825   28817  13.250442  250.350720    0.000647\n",
       "565598   66613   66621  14.453403    6.839251    0.000511\n",
       "565599   53453   53558   9.403179    9.790645    0.001096\n",
       "\n",
       "[565600 rows x 5 columns]"
      ]
     },
     "execution_count": 23,
     "metadata": {},
     "output_type": "execute_result"
    }
   ],
   "source": [
    "data"
   ]
  },
  {
   "cell_type": "code",
   "execution_count": 24,
   "metadata": {},
   "outputs": [],
   "source": [
    "sample = data.sample(frac=0.01)\n",
    "discrete_columns = ['source', 'target']"
   ]
  },
  {
   "cell_type": "code",
   "execution_count": 25,
   "metadata": {},
   "outputs": [
    {
     "data": {
      "text/plain": [
       "5656"
      ]
     },
     "execution_count": 25,
     "metadata": {},
     "output_type": "execute_result"
    }
   ],
   "source": [
    "len(sample)"
   ]
  },
  {
   "cell_type": "code",
   "execution_count": 15,
   "metadata": {
    "colab": {},
    "colab_type": "code",
    "collapsed": true,
    "id": "lR-p3E2IT32X",
    "jupyter": {
     "outputs_hidden": true
    }
   },
   "outputs": [
    {
     "name": "stdout",
     "output_type": "stream",
     "text": [
      "Requirement already satisfied: ctgan in /Users/alex/anaconda3/lib/python3.7/site-packages (0.2.1)\n",
      "Requirement already satisfied: scikit-learn<0.23,>=0.21 in /Users/alex/anaconda3/lib/python3.7/site-packages (from ctgan) (0.22.1)\n",
      "Requirement already satisfied: pandas<0.26,>=0.24 in /Users/alex/anaconda3/lib/python3.7/site-packages (from ctgan) (0.25.3)\n",
      "Requirement already satisfied: numpy<2,>=1.17.4 in /Users/alex/anaconda3/lib/python3.7/site-packages (from ctgan) (1.18.1)\n",
      "Requirement already satisfied: torchvision<1,>=0.4.2 in /Users/alex/anaconda3/lib/python3.7/site-packages (from ctgan) (0.6.0)\n",
      "Requirement already satisfied: torch<2,>=1.0 in /Users/alex/anaconda3/lib/python3.7/site-packages (from ctgan) (1.5.0)\n",
      "Requirement already satisfied: scipy>=0.17.0 in /Users/alex/.local/lib/python3.7/site-packages (from scikit-learn<0.23,>=0.21->ctgan) (1.4.1)\n",
      "Requirement already satisfied: joblib>=0.11 in /Users/alex/anaconda3/lib/python3.7/site-packages (from scikit-learn<0.23,>=0.21->ctgan) (0.14.1)\n",
      "Requirement already satisfied: python-dateutil>=2.6.1 in /Users/alex/anaconda3/lib/python3.7/site-packages (from pandas<0.26,>=0.24->ctgan) (2.8.1)\n",
      "Requirement already satisfied: pytz>=2017.2 in /Users/alex/anaconda3/lib/python3.7/site-packages (from pandas<0.26,>=0.24->ctgan) (2020.1)\n",
      "Requirement already satisfied: pillow>=4.1.1 in /Users/alex/anaconda3/lib/python3.7/site-packages (from torchvision<1,>=0.4.2->ctgan) (7.1.2)\n",
      "Requirement already satisfied: future in /Users/alex/anaconda3/lib/python3.7/site-packages (from torch<2,>=1.0->ctgan) (0.18.2)\n",
      "Requirement already satisfied: six>=1.5 in /Users/alex/anaconda3/lib/python3.7/site-packages (from python-dateutil>=2.6.1->pandas<0.26,>=0.24->ctgan) (1.14.0)\n"
     ]
    }
   ],
   "source": [
    "# %%capture\n",
    "# !pip install ctgan\n",
    "# !pip install --upgrade pandas"
   ]
  },
  {
   "cell_type": "code",
   "execution_count": 27,
   "metadata": {},
   "outputs": [
    {
     "ename": "AttributeError",
     "evalue": "module 'ctgan' has no attribute 'CTGANSynthesizer'",
     "output_type": "error",
     "traceback": [
      "\u001b[0;31m---------------------------------------------------------------------------\u001b[0m",
      "\u001b[0;31mAttributeError\u001b[0m                            Traceback (most recent call last)",
      "\u001b[0;32m<ipython-input-27-cadddc2e1365>\u001b[0m in \u001b[0;36m<module>\u001b[0;34m\u001b[0m\n\u001b[0;32m----> 1\u001b[0;31m \u001b[0;32mfrom\u001b[0m \u001b[0mctgan\u001b[0m\u001b[0;34m.\u001b[0m\u001b[0msynthesizer\u001b[0m \u001b[0;32mimport\u001b[0m \u001b[0mCTGANSynthesizer\u001b[0m\u001b[0;34m\u001b[0m\u001b[0;34m\u001b[0m\u001b[0m\n\u001b[0m\u001b[1;32m      2\u001b[0m \u001b[0;34m\u001b[0m\u001b[0m\n\u001b[1;32m      3\u001b[0m \u001b[0mctgan\u001b[0m \u001b[0;34m=\u001b[0m \u001b[0mCTGANSynthesizer\u001b[0m\u001b[0;34m(\u001b[0m\u001b[0;34m)\u001b[0m\u001b[0;34m\u001b[0m\u001b[0;34m\u001b[0m\u001b[0m\n\u001b[1;32m      4\u001b[0m \u001b[0mctgan\u001b[0m\u001b[0;34m.\u001b[0m\u001b[0mtrain\u001b[0m\u001b[0;34m(\u001b[0m\u001b[0mdata\u001b[0m\u001b[0;34m,\u001b[0m \u001b[0mdiscrete_columns\u001b[0m\u001b[0;34m)\u001b[0m\u001b[0;34m\u001b[0m\u001b[0;34m\u001b[0m\u001b[0m\n",
      "\u001b[0;32m~/PycharmProjects/GNS_GAN/ctgan.py\u001b[0m in \u001b[0;36m<module>\u001b[0;34m\u001b[0m\n\u001b[1;32m     18\u001b[0m \u001b[0;34m\u001b[0m\u001b[0m\n\u001b[1;32m     19\u001b[0m \u001b[0;34m\u001b[0m\u001b[0m\n\u001b[0;32m---> 20\u001b[0;31m \u001b[0mctgan\u001b[0m \u001b[0;34m=\u001b[0m \u001b[0mctgan\u001b[0m\u001b[0;34m.\u001b[0m\u001b[0mCTGANSynthesizer\u001b[0m\u001b[0;34m(\u001b[0m\u001b[0;34m)\u001b[0m\u001b[0;34m\u001b[0m\u001b[0;34m\u001b[0m\u001b[0m\n\u001b[0m\u001b[1;32m     21\u001b[0m \u001b[0mfit_time\u001b[0m \u001b[0;34m=\u001b[0m \u001b[0mtime\u001b[0m\u001b[0;34m.\u001b[0m\u001b[0mtime\u001b[0m\u001b[0;34m(\u001b[0m\u001b[0;34m)\u001b[0m\u001b[0;34m\u001b[0m\u001b[0;34m\u001b[0m\u001b[0m\n\u001b[1;32m     22\u001b[0m \u001b[0me\u001b[0m\u001b[0;34m=\u001b[0m\u001b[0;36m1\u001b[0m\u001b[0;34m\u001b[0m\u001b[0;34m\u001b[0m\u001b[0m\n",
      "\u001b[0;31mAttributeError\u001b[0m: module 'ctgan' has no attribute 'CTGANSynthesizer'"
     ]
    }
   ],
   "source": [
    "from ctgan.synthesizer import CTGANSynthesizer\n",
    "\n",
    "ctgan = CTGANSynthesizer()\n",
    "ctgan.train(data, discrete_columns)"
   ]
  },
  {
   "cell_type": "code",
   "execution_count": null,
   "metadata": {},
   "outputs": [],
   "source": [
    "GANsamples = ctgan.sample(1000)"
   ]
  },
  {
   "cell_type": "code",
   "execution_count": null,
   "metadata": {},
   "outputs": [],
   "source": [
    "print(\"{} epochs finished in {}\".format(e, endFit_time))"
   ]
  },
  {
   "cell_type": "code",
   "execution_count": null,
   "metadata": {},
   "outputs": [],
   "source": [
    "git commit -m \"whatever\""
   ]
  }
 ],
 "metadata": {
  "accelerator": "GPU",
  "colab": {
   "authorship_tag": "ABX9TyOb+tF9qcXqxShFjtDOngma",
   "include_colab_link": true,
   "mount_file_id": "13uqUmOPu_Fius2uDC331rzeIRoiRMDrJ",
   "name": "CTGAN.ipynb",
   "provenance": []
  },
  "kernelspec": {
   "display_name": "Python 3",
   "language": "python",
   "name": "python3"
  },
  "language_info": {
   "codemirror_mode": {
    "name": "ipython",
    "version": 3
   },
   "file_extension": ".py",
   "mimetype": "text/x-python",
   "name": "python",
   "nbconvert_exporter": "python",
   "pygments_lexer": "ipython3",
   "version": "3.7.3"
  }
 },
 "nbformat": 4,
 "nbformat_minor": 4
}
