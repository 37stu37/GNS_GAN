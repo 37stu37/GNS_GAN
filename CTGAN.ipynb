{
  "nbformat": 4,
  "nbformat_minor": 0,
  "metadata": {
    "colab": {
      "name": "CTGAN.ipynb",
      "provenance": [],
      "mount_file_id": "13uqUmOPu_Fius2uDC331rzeIRoiRMDrJ",
      "authorship_tag": "ABX9TyM56IhuJikOPXRHkYHw5iQo",
      "include_colab_link": true
    },
    "kernelspec": {
      "name": "python3",
      "display_name": "Python 3"
    }
  },
  "cells": [
    {
      "cell_type": "markdown",
      "metadata": {
        "id": "view-in-github",
        "colab_type": "text"
      },
      "source": [
        "<a href=\"https://colab.research.google.com/github/37stu37/GNS_GAN/blob/master/CTGAN.ipynb\" target=\"_parent\"><img src=\"https://colab.research.google.com/assets/colab-badge.svg\" alt=\"Open In Colab\"/></a>"
      ]
    },
    {
      "cell_type": "code",
      "metadata": {
        "id": "w3qhqVuNUtMm",
        "colab_type": "code",
        "colab": {
          "base_uri": "https://localhost:8080/",
          "height": 34
        },
        "outputId": "8cf3f676-7334-474c-f4df-3d6005fde092"
      },
      "source": [
        "!pwd"
      ],
      "execution_count": 6,
      "outputs": [
        {
          "output_type": "stream",
          "text": [
            "/content/drive/My Drive/Colab Notebooks/CTGAN\n"
          ],
          "name": "stdout"
        }
      ]
    },
    {
      "cell_type": "code",
      "metadata": {
        "id": "QW-ThT3VU_YS",
        "colab_type": "code",
        "colab": {
          "base_uri": "https://localhost:8080/",
          "height": 34
        },
        "outputId": "238ce048-b5b7-4919-9014-ccf34cd346f6"
      },
      "source": [
        "%cd /content/drive/My Drive/Colab Notebooks"
      ],
      "execution_count": 7,
      "outputs": [
        {
          "output_type": "stream",
          "text": [
            "/content/drive/My Drive/Colab Notebooks\n"
          ],
          "name": "stdout"
        }
      ]
    },
    {
      "cell_type": "code",
      "metadata": {
        "id": "Pl95TI2zUmc6",
        "colab_type": "code",
        "colab": {
          "base_uri": "https://localhost:8080/",
          "height": 153
        },
        "outputId": "f4be001d-6334-472b-f9b1-c7599f2395ba"
      },
      "source": [
        "! git clone https://github.com/37stu37/GNS_GAN.git\n",
        "!git pull"
      ],
      "execution_count": 8,
      "outputs": [
        {
          "output_type": "stream",
          "text": [
            "Cloning into 'GNS_GAN'...\n",
            "remote: Enumerating objects: 32, done.\u001b[K\n",
            "remote: Counting objects: 100% (32/32), done.\u001b[K\n",
            "remote: Compressing objects: 100% (24/24), done.\u001b[K\n",
            "remote: Total 32 (delta 9), reused 26 (delta 5), pack-reused 0\u001b[K\n",
            "Unpacking objects: 100% (32/32), done.\n",
            "fatal: not a git repository (or any parent up to mount point /content)\n",
            "Stopping at filesystem boundary (GIT_DISCOVERY_ACROSS_FILESYSTEM not set).\n"
          ],
          "name": "stdout"
        }
      ]
    },
    {
      "cell_type": "code",
      "metadata": {
        "id": "lR-p3E2IT32X",
        "colab_type": "code",
        "colab": {
          "base_uri": "https://localhost:8080/",
          "height": 497
        },
        "outputId": "edf56917-7512-4da8-8418-250723e98323"
      },
      "source": [
        "pip install ctgan"
      ],
      "execution_count": 9,
      "outputs": [
        {
          "output_type": "stream",
          "text": [
            "Collecting ctgan\n",
            "  Downloading https://files.pythonhosted.org/packages/e2/e6/b744b740fb9636f726f0e8272fc25beb3340c6b1cd5385a9dd87f0316c24/ctgan-0.2.1-py2.py3-none-any.whl\n",
            "Requirement already satisfied: torchvision<1,>=0.4.2 in /usr/local/lib/python3.6/dist-packages (from ctgan) (0.6.0+cu101)\n",
            "Requirement already satisfied: numpy<2,>=1.17.4 in /usr/local/lib/python3.6/dist-packages (from ctgan) (1.18.4)\n",
            "Requirement already satisfied: scikit-learn<0.23,>=0.21 in /usr/local/lib/python3.6/dist-packages (from ctgan) (0.22.2.post1)\n",
            "Collecting pandas<0.26,>=0.24\n",
            "\u001b[?25l  Downloading https://files.pythonhosted.org/packages/52/3f/f6a428599e0d4497e1595030965b5ba455fd8ade6e977e3c819973c4b41d/pandas-0.25.3-cp36-cp36m-manylinux1_x86_64.whl (10.4MB)\n",
            "\u001b[K     |████████████████████████████████| 10.4MB 3.7MB/s \n",
            "\u001b[?25hRequirement already satisfied: torch<2,>=1.0 in /usr/local/lib/python3.6/dist-packages (from ctgan) (1.5.0+cu101)\n",
            "Requirement already satisfied: pillow>=4.1.1 in /usr/local/lib/python3.6/dist-packages (from torchvision<1,>=0.4.2->ctgan) (7.0.0)\n",
            "Requirement already satisfied: joblib>=0.11 in /usr/local/lib/python3.6/dist-packages (from scikit-learn<0.23,>=0.21->ctgan) (0.15.1)\n",
            "Requirement already satisfied: scipy>=0.17.0 in /usr/local/lib/python3.6/dist-packages (from scikit-learn<0.23,>=0.21->ctgan) (1.4.1)\n",
            "Requirement already satisfied: python-dateutil>=2.6.1 in /usr/local/lib/python3.6/dist-packages (from pandas<0.26,>=0.24->ctgan) (2.8.1)\n",
            "Requirement already satisfied: pytz>=2017.2 in /usr/local/lib/python3.6/dist-packages (from pandas<0.26,>=0.24->ctgan) (2018.9)\n",
            "Requirement already satisfied: future in /usr/local/lib/python3.6/dist-packages (from torch<2,>=1.0->ctgan) (0.16.0)\n",
            "Requirement already satisfied: six>=1.5 in /usr/local/lib/python3.6/dist-packages (from python-dateutil>=2.6.1->pandas<0.26,>=0.24->ctgan) (1.12.0)\n",
            "\u001b[31mERROR: google-colab 1.0.0 has requirement pandas~=1.0.0; python_version >= \"3.0\", but you'll have pandas 0.25.3 which is incompatible.\u001b[0m\n",
            "Installing collected packages: pandas, ctgan\n",
            "  Found existing installation: pandas 1.0.4\n",
            "    Uninstalling pandas-1.0.4:\n",
            "      Successfully uninstalled pandas-1.0.4\n",
            "Successfully installed ctgan-0.2.1 pandas-0.25.3\n"
          ],
          "name": "stdout"
        },
        {
          "output_type": "display_data",
          "data": {
            "application/vnd.colab-display-data+json": {
              "pip_warning": {
                "packages": [
                  "pandas"
                ]
              }
            }
          },
          "metadata": {
            "tags": []
          }
        }
      ]
    },
    {
      "cell_type": "code",
      "metadata": {
        "id": "d2jILiTiT-Vw",
        "colab_type": "code",
        "colab": {}
      },
      "source": [
        "import seaborn as sns\n",
        "import scipy.stats as stats\n",
        "import pandas as pd\n",
        "import ctgan"
      ],
      "execution_count": 0,
      "outputs": []
    },
    {
      "cell_type": "code",
      "metadata": {
        "id": "UKN1SS65UCMV",
        "colab_type": "code",
        "colab": {}
      },
      "source": [
        "data = pd.read_csv('FFEsample1perc.csv')\n",
        "data.columns\n",
        "data.drop(['Unnamed: 0', 'scenario', 'pid'], axis=1, inplace=True)\n",
        "\n",
        "# sample = data.sample(frac=0.5)\n",
        "\n",
        "discrete_columns = ['source', 'target']"
      ],
      "execution_count": 0,
      "outputs": []
    },
    {
      "cell_type": "code",
      "metadata": {
        "id": "_WpR7EFCWKfv",
        "colab_type": "code",
        "colab": {}
      },
      "source": [
        "ctgan = ctgan.CTGANSynthesizer()\n",
        "ctgan.fit(data, discrete_columns, epochs=5)"
      ],
      "execution_count": 0,
      "outputs": []
    },
    {
      "cell_type": "markdown",
      "metadata": {
        "id": "_klmL_b2WV_Z",
        "colab_type": "text"
      },
      "source": [
        "create output"
      ]
    },
    {
      "cell_type": "code",
      "metadata": {
        "id": "0KMTVFeDWYK5",
        "colab_type": "code",
        "colab": {}
      },
      "source": [
        "GANsamples = ctgan.sample(1000)"
      ],
      "execution_count": 0,
      "outputs": []
    }
  ]
}