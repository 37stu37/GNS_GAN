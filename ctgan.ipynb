{
  "nbformat": 4,
  "nbformat_minor": 0,
  "metadata": {
    "colab": {
      "name": "ctgan.ipynb",
      "provenance": [],
      "mount_file_id": "1Qe-HnGSNPoKdpd86IEw4ZkmfuW1pVWqT",
      "authorship_tag": "ABX9TyMFA1e1l/mmQ64nepsfGV8n",
      "include_colab_link": true
    },
    "kernelspec": {
      "name": "python3",
      "display_name": "Python 3"
    },
    "accelerator": "GPU"
  },
  "cells": [
    {
      "cell_type": "markdown",
      "metadata": {
        "id": "view-in-github",
        "colab_type": "text"
      },
      "source": [
        "<a href=\"https://colab.research.google.com/github/37stu37/GNS_GAN/blob/master/ctgan.ipynb\" target=\"_parent\"><img src=\"https://colab.research.google.com/assets/colab-badge.svg\" alt=\"Open In Colab\"/></a>"
      ]
    },
    {
      "cell_type": "markdown",
      "metadata": {
        "id": "4nhtkMOdu0ux",
        "colab_type": "text"
      },
      "source": [
        "**import**\n",
        "---\n",
        "\n"
      ]
    },
    {
      "cell_type": "code",
      "metadata": {
        "id": "OlVx1O6wul0O",
        "colab_type": "code",
        "colab": {}
      },
      "source": [
        "import pandas as pd\n",
        "import pathlib as Path"
      ],
      "execution_count": 0,
      "outputs": []
    },
    {
      "cell_type": "code",
      "metadata": {
        "id": "Mn3U7DWcvQqe",
        "colab_type": "code",
        "colab": {
          "base_uri": "https://localhost:8080/",
          "height": 34
        },
        "outputId": "73615e0c-bc63-4ae6-8da9-64e389b10610"
      },
      "source": [
        "%cd /content/drive/My Drive/Colab Notebooks/01_githubRepo/GNS_GAN"
      ],
      "execution_count": 2,
      "outputs": [
        {
          "output_type": "stream",
          "text": [
            "/content/drive/My Drive/Colab Notebooks/01_githubRepo/GNS_GAN\n"
          ],
          "name": "stdout"
        }
      ]
    },
    {
      "cell_type": "code",
      "metadata": {
        "id": "1I8FeT9uvBRR",
        "colab_type": "code",
        "colab": {}
      },
      "source": [
        "outputDir = '../../02_output'"
      ],
      "execution_count": 0,
      "outputs": []
    },
    {
      "cell_type": "code",
      "metadata": {
        "id": "QlAGPJgdvIWP",
        "colab_type": "code",
        "colab": {}
      },
      "source": [
        "data = pd.read_parquet(outputDir + '/smallMonteCarlo2500runs.parquet')"
      ],
      "execution_count": 0,
      "outputs": []
    },
    {
      "cell_type": "markdown",
      "metadata": {
        "id": "fe8m30YFxnuh",
        "colab_type": "text"
      },
      "source": [
        "**Data processing**\n",
        "---\n",
        "\n"
      ]
    },
    {
      "cell_type": "code",
      "metadata": {
        "id": "kwRvoR5qxY4C",
        "colab_type": "code",
        "colab": {}
      },
      "source": [
        "data.reset_index(inplace=True)\n",
        "data.drop(['index', 'scenario', 'pid'], axis=1, inplace=True)"
      ],
      "execution_count": 0,
      "outputs": []
    },
    {
      "cell_type": "code",
      "metadata": {
        "id": "lQSic0rdz635",
        "colab_type": "code",
        "colab": {
          "base_uri": "https://localhost:8080/",
          "height": 34
        },
        "outputId": "2a7e4db6-61cf-4c09-94e7-ffa007948dc4"
      },
      "source": [
        "len(data); data.columns"
      ],
      "execution_count": 7,
      "outputs": [
        {
          "output_type": "execute_result",
          "data": {
            "text/plain": [
              "Index(['source', 'target', 'distance', 'bearing', 'IgnProb_bl'], dtype='object')"
            ]
          },
          "metadata": {
            "tags": []
          },
          "execution_count": 7
        }
      ]
    },
    {
      "cell_type": "code",
      "metadata": {
        "id": "KXQLopazz34r",
        "colab_type": "code",
        "colab": {}
      },
      "source": [
        "trainingSample = data.sample(n=7000)\n",
        "discrete_columns = ['source', 'target']"
      ],
      "execution_count": 0,
      "outputs": []
    },
    {
      "cell_type": "markdown",
      "metadata": {
        "id": "wtNlfK8E3wJS",
        "colab_type": "text"
      },
      "source": [
        "**CTGAN**"
      ]
    },
    {
      "cell_type": "code",
      "metadata": {
        "id": "tFDUytOdx20X",
        "colab_type": "code",
        "colab": {}
      },
      "source": [
        "%%capture\n",
        "!pip install ctgan "
      ],
      "execution_count": 0,
      "outputs": []
    },
    {
      "cell_type": "code",
      "metadata": {
        "id": "NVYsNMQm0nt4",
        "colab_type": "code",
        "colab": {}
      },
      "source": [
        "%%time\n",
        "from ctgan import CTGANSynthesizer\n",
        "\n",
        "ctgan = CTGANSynthesizer()\n",
        "ctgan.fit(trainingSample, discrete_columns)"
      ],
      "execution_count": 0,
      "outputs": []
    },
    {
      "cell_type": "markdown",
      "metadata": {
        "id": "jKu1r_Ri1LT4",
        "colab_type": "text"
      },
      "source": [
        "**Generate synthetic data**"
      ]
    },
    {
      "cell_type": "code",
      "metadata": {
        "id": "PpYMLRRZ0umh",
        "colab_type": "code",
        "colab": {}
      },
      "source": [
        "samples = ctgan.sample(1000)"
      ],
      "execution_count": 0,
      "outputs": []
    }
  ]
}