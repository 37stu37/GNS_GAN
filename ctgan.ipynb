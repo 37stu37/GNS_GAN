{
  "nbformat": 4,
  "nbformat_minor": 0,
  "metadata": {
    "colab": {
      "name": "ctgan.ipynb",
      "provenance": [],
      "include_colab_link": true
    },
    "kernelspec": {
      "name": "python3",
      "display_name": "Python 3"
    },
    "accelerator": "GPU"
  },
  "cells": [
    {
      "cell_type": "markdown",
      "metadata": {
        "id": "view-in-github",
        "colab_type": "text"
      },
      "source": [
        "<a href=\"https://colab.research.google.com/github/37stu37/GNS_GAN/blob/master/ctgan.ipynb\" target=\"_parent\"><img src=\"https://colab.research.google.com/assets/colab-badge.svg\" alt=\"Open In Colab\"/></a>"
      ]
    },
    {
      "cell_type": "markdown",
      "metadata": {
        "id": "4nhtkMOdu0ux",
        "colab_type": "text"
      },
      "source": [
        "**import**\n",
        "---\n",
        "\n"
      ]
    },
    {
      "cell_type": "code",
      "metadata": {
        "id": "zyFECzwiiuGf",
        "colab_type": "code",
        "colab": {
          "base_uri": "https://localhost:8080/",
          "height": 54
        },
        "outputId": "53dc0585-e7f1-4234-9465-342cceaab151"
      },
      "source": [
        "from google.colab import drive\n",
        "drive.mount('/content/drive')"
      ],
      "execution_count": 1,
      "outputs": [
        {
          "output_type": "stream",
          "text": [
            "Drive already mounted at /content/drive; to attempt to forcibly remount, call drive.mount(\"/content/drive\", force_remount=True).\n"
          ],
          "name": "stdout"
        }
      ]
    },
    {
      "cell_type": "code",
      "metadata": {
        "id": "OlVx1O6wul0O",
        "colab_type": "code",
        "colab": {}
      },
      "source": [
        "# import pandas as pd\n",
        "from pathlib import Path"
      ],
      "execution_count": 0,
      "outputs": []
    },
    {
      "cell_type": "code",
      "metadata": {
        "id": "1I8FeT9uvBRR",
        "colab_type": "code",
        "colab": {}
      },
      "source": [
        "outputDir = Path('/content/drive/My Drive/Colab Notebooks/02_output/ctgan')"
      ],
      "execution_count": 0,
      "outputs": []
    },
    {
      "cell_type": "code",
      "metadata": {
        "id": "QlAGPJgdvIWP",
        "colab_type": "code",
        "colab": {}
      },
      "source": [
        "data = pd.read_parquet(outputDir / 'smallMonteCarlo2500runs.parquet')"
      ],
      "execution_count": 0,
      "outputs": []
    },
    {
      "cell_type": "markdown",
      "metadata": {
        "id": "fe8m30YFxnuh",
        "colab_type": "text"
      },
      "source": [
        "**Data processing**\n",
        "---\n",
        "\n"
      ]
    },
    {
      "cell_type": "code",
      "metadata": {
        "id": "kwRvoR5qxY4C",
        "colab_type": "code",
        "colab": {}
      },
      "source": [
        "data.reset_index(inplace=True)\n",
        "data.drop(['index', 'scenario', 'pid'], axis=1, inplace=True)"
      ],
      "execution_count": 0,
      "outputs": []
    },
    {
      "cell_type": "code",
      "metadata": {
        "id": "lQSic0rdz635",
        "colab_type": "code",
        "outputId": "3c7eccbf-3624-49d0-e40c-e5bd2e863175",
        "colab": {
          "base_uri": "https://localhost:8080/",
          "height": 34
        }
      },
      "source": [
        "len(data) #; data.columns"
      ],
      "execution_count": 7,
      "outputs": [
        {
          "output_type": "execute_result",
          "data": {
            "text/plain": [
              "7864124"
            ]
          },
          "metadata": {
            "tags": []
          },
          "execution_count": 7
        }
      ]
    },
    {
      "cell_type": "code",
      "metadata": {
        "id": "KXQLopazz34r",
        "colab_type": "code",
        "colab": {}
      },
      "source": [
        "trainingSample = data.sample(n=70000)\n",
        "discrete_columns = ['source', 'target']"
      ],
      "execution_count": 0,
      "outputs": []
    },
    {
      "cell_type": "code",
      "metadata": {
        "id": "3JvOa3Vm6lEu",
        "colab_type": "code",
        "colab": {
          "base_uri": "https://localhost:8080/",
          "height": 187
        },
        "outputId": "92e35055-593f-4fdb-d391-56616287e7b1"
      },
      "source": [
        "trainingSample.info()"
      ],
      "execution_count": 9,
      "outputs": [
        {
          "output_type": "stream",
          "text": [
            "<class 'pandas.core.frame.DataFrame'>\n",
            "Int64Index: 70000 entries, 2235019 to 4295981\n",
            "Data columns (total 5 columns):\n",
            "source        70000 non-null int64\n",
            "target        70000 non-null int64\n",
            "distance      70000 non-null float64\n",
            "bearing       70000 non-null float64\n",
            "IgnProb_bl    70000 non-null float64\n",
            "dtypes: float64(3), int64(2)\n",
            "memory usage: 3.2 MB\n"
          ],
          "name": "stdout"
        }
      ]
    },
    {
      "cell_type": "markdown",
      "metadata": {
        "id": "wtNlfK8E3wJS",
        "colab_type": "text"
      },
      "source": [
        "**CTGAN**"
      ]
    },
    {
      "cell_type": "code",
      "metadata": {
        "id": "tFDUytOdx20X",
        "colab_type": "code",
        "colab": {}
      },
      "source": [
        "%%capture\n",
        "!pip install ctgan "
      ],
      "execution_count": 0,
      "outputs": []
    },
    {
      "cell_type": "code",
      "metadata": {
        "id": "NVYsNMQm0nt4",
        "colab_type": "code",
        "colab": {}
      },
      "source": [
        "%%time\n",
        "from ctgan import CTGANSynthesizer\n",
        "\n",
        "e = 85\n",
        "ctgan = CTGANSynthesizer()\n",
        "ctgan.fit(trainingSample, discrete_columns, epochs=e)"
      ],
      "execution_count": 0,
      "outputs": []
    },
    {
      "cell_type": "markdown",
      "metadata": {
        "id": "mui448CBCIZD",
        "colab_type": "text"
      },
      "source": [
        "**save ML model**"
      ]
    },
    {
      "cell_type": "code",
      "metadata": {
        "id": "ZlV8Mna-CNLb",
        "colab_type": "code",
        "colab": {}
      },
      "source": [
        "MLpath = outputDir / 'ctganOutput' / f'ctganTabular_{e}epochs.pt'\n",
        "# torch.save(ctgan, path)\n",
        "torch.save(ctgan.state_dict(), MLpath)\n",
        "\n",
        "# and to reload it \n",
        "# model = TheModelClass(*args, **kwargs)\n",
        "# model.load_state_dict(torch.load(PATH))\n",
        "# model.eval()"
      ],
      "execution_count": 0,
      "outputs": []
    },
    {
      "cell_type": "markdown",
      "metadata": {
        "id": "jKu1r_Ri1LT4",
        "colab_type": "text"
      },
      "source": [
        "**Generate synthetic data**"
      ]
    },
    {
      "cell_type": "code",
      "metadata": {
        "id": "_Mv7Q3RoBG9F",
        "colab_type": "code",
        "colab": {}
      },
      "source": [
        "!pip show pandas"
      ],
      "execution_count": 0,
      "outputs": []
    },
    {
      "cell_type": "code",
      "metadata": {
        "id": "QLHp8-SzArOp",
        "colab_type": "code",
        "colab": {}
      },
      "source": [
        "!pip install pandas==1.0.4"
      ],
      "execution_count": 0,
      "outputs": []
    },
    {
      "cell_type": "code",
      "metadata": {
        "id": "PpYMLRRZ0umh",
        "colab_type": "code",
        "colab": {}
      },
      "source": [
        "%%time\n",
        "s = 100000\n",
        "for v in range(700):\n",
        "  print(v)\n",
        "  samples = ctgan.sample(s)\n",
        "  samples.to_parquet(outputDir / 'ctganOutput' / f'smallSyntheticCTGAN{s}samplesVersion{v}.parquet', engine='pyarrow')"
      ],
      "execution_count": 0,
      "outputs": []
    },
    {
      "cell_type": "markdown",
      "metadata": {
        "id": "7T6sXdUCa5km",
        "colab_type": "text"
      },
      "source": [
        "# **Data validation**"
      ]
    },
    {
      "cell_type": "markdown",
      "metadata": {
        "id": "vth9FZLBdTex",
        "colab_type": "text"
      },
      "source": [
        "**importing**\n",
        "---\n",
        "\n"
      ]
    },
    {
      "cell_type": "code",
      "metadata": {
        "id": "4R3Gm8iDdJR3",
        "colab_type": "code",
        "colab": {
          "base_uri": "https://localhost:8080/",
          "height": 51
        },
        "outputId": "47edd101-9d1a-4e42-8e12-59eafc033337"
      },
      "source": [
        "%%time\n",
        "%%capture\n",
        "!apt update\n",
        "!apt upgrade\n",
        "!apt install gdal-bin python-gdal python3-gdal\n",
        "# Install rtree - Geopandas requirment\n",
        "!apt install python3-rtree\n",
        "# Install Geopandas\n",
        "!pip install git+git://github.com/geopandas/geopandas.git\n",
        "# Install descartes - Geopandas requirment\n",
        "!pip install descartes\n",
        "!pip install memory_profiler"
      ],
      "execution_count": 49,
      "outputs": [
        {
          "output_type": "stream",
          "text": [
            "CPU times: user 304 ms, sys: 266 ms, total: 570 ms\n",
            "Wall time: 1min 38s\n"
          ],
          "name": "stdout"
        }
      ]
    },
    {
      "cell_type": "code",
      "metadata": {
        "id": "BiH168Rrfho6",
        "colab_type": "code",
        "colab": {
          "base_uri": "https://localhost:8080/",
          "height": 51
        },
        "outputId": "dc5bced0-5e9b-4963-9566-a5b6f2421ca2"
      },
      "source": [
        "import glob\n",
        "import os\n",
        "import dask\n",
        "import dask.dataframe as dd\n",
        "from dask.distributed import Client\n",
        "import memory_profiler\n",
        "%load_ext memory_profiler\n",
        "from sys import getsizeof\n",
        "import matplotlib.pyplot as plt\n",
        "\n",
        "\n",
        "from shapely.geometry import box\n",
        "import geopandas as gpd\n",
        "\n",
        "pathCTGANoutput = outputDir / 'ctganOutput'\n",
        "pathShapefile = '/content/drive/My Drive/Colab Notebooks/01_githubRepo/FFE/data/shapefile'\n",
        "\n",
        "@dask.delayed\n",
        "def read_and_concatenate_parquets(prefix, path=pathCTGANoutput):\n",
        "  L = []\n",
        "  files = glob.glob(os.path.join(path, prefix))# output_scenario_0_step_0.parquet\n",
        "  for file in files:\n",
        "    print(\"file loaded : {}\".format(file))\n",
        "    pqt = dd.read_parquet(file)\n",
        "    L.append(pqt)\n",
        "  df = dd.concat(L)\n",
        "  return df\n",
        "\n",
        "\n",
        "def count_fid_occurences(df):\n",
        "  count = df['source'].value_counts().compute()\n",
        "  count_df = pd.DataFrame({'source': count.index, 'count': count.values})\n",
        "  count_df[\"count\"] = pd.to_numeric(count_df[\"count\"])\n",
        "  return count_df\n",
        "\n",
        "\n",
        "def load_shapefile(file_name, minx, miny, maxx, maxy, path=pathShapefile):\n",
        "    # crop data\n",
        "    bbox = box(minx, miny, maxx, maxy)\n",
        "    # building point dataset\n",
        "    gdf_buildings = gpd.read_file(os.path.join(path,file_name), bbox=bbox)\n",
        "    max_extent = gdf_buildings.total_bounds\n",
        "    data_size = getsizeof(gdf_buildings) /(1024.0**3)\n",
        "    print(\"Shapefile extent : {}\".format(max_extent))\n",
        "    print(\"Asset loaded : {}\".format(len(gdf_buildings)))\n",
        "    return gdf_buildings\n",
        "\n",
        "\n",
        "def merge_coordinates_export_shape(ddf, gdf, name_output, path=pathCTGANoutput):\n",
        "  gdf = gdf[['TARGET_FID', 'geometry']]\n",
        "  df = pd.DataFrame(gdf)\n",
        "  # ddf = ddf.compute()\n",
        "  df_merge = ddf.merge(df, how='left', left_on='source', right_on='TARGET_FID')\n",
        "  gdf_merge = gpd.GeoDataFrame(df_merge, geometry='geometry')\n",
        "  gdf_merge.to_file(os.path.join(path, name_output + \".shp\"))\n",
        "\n",
        "  f, ax = plt.subplots(1, figsize=(12, 12))\n",
        "  countPlot = gdf_merge.plot(column='count', cmap='seismic', legend=True, ax=ax)\n",
        "  plt.savefig(os.path.join(path, name_output + '.jpg'), dpi=300)\n",
        "  plt.show()\n",
        "  return gdf_merge"
      ],
      "execution_count": 62,
      "outputs": [
        {
          "output_type": "stream",
          "text": [
            "The memory_profiler extension is already loaded. To reload it, use:\n",
            "  %reload_ext memory_profiler\n"
          ],
          "name": "stdout"
        }
      ]
    },
    {
      "cell_type": "markdown",
      "metadata": {
        "id": "LEJ08t6Qdat5",
        "colab_type": "text"
      },
      "source": [
        "**runs and shapefile creation**\n",
        "---\n",
        "\n"
      ]
    },
    {
      "cell_type": "code",
      "metadata": {
        "id": "WOpzlZG_gH7I",
        "colab_type": "code",
        "colab": {}
      },
      "source": [
        "%%time\n",
        "%%memit\n",
        "ddf = read_and_concatenate_parquets(\"smallSyntheticCTGAN*\")\n",
        "count_df = count_fid_occurences(ddf)"
      ],
      "execution_count": 0,
      "outputs": []
    },
    {
      "cell_type": "code",
      "metadata": {
        "id": "jZ8T3CSdb-HF",
        "colab_type": "code",
        "colab": {
          "base_uri": "https://localhost:8080/",
          "height": 136
        },
        "outputId": "2fdce52f-772c-4bbb-80e3-5db8c0e47da0"
      },
      "source": [
        "count_df.info()"
      ],
      "execution_count": 64,
      "outputs": [
        {
          "output_type": "stream",
          "text": [
            "<class 'pandas.core.frame.DataFrame'>\n",
            "RangeIndex: 1579 entries, 0 to 1578\n",
            "Data columns (total 2 columns):\n",
            "source    1579 non-null float64\n",
            "count     1579 non-null int64\n",
            "dtypes: float64(1), int64(1)\n",
            "memory usage: 24.8 KB\n"
          ],
          "name": "stdout"
        }
      ]
    },
    {
      "cell_type": "code",
      "metadata": {
        "id": "Tej_bi1bZMOV",
        "colab_type": "code",
        "colab": {
          "base_uri": "https://localhost:8080/",
          "height": 85
        },
        "outputId": "a3fb44ed-c5c8-4701-e8e2-5ef707ce5ae3"
      },
      "source": [
        "gdfCBD = load_shapefile(\"buildings_raw.shp\", 1748570, 5425500, 1749500, 5427600) # small\n",
        "gdfRegion = load_shapefile(\"buildings_raw.shp\", 1740508, 5420049, 1755776, 5443033) # whole"
      ],
      "execution_count": 71,
      "outputs": [
        {
          "output_type": "stream",
          "text": [
            "Shapefile extent : [1748498.0152998  5425264.79535007 1749563.95249987 5427653.74945021]\n",
            "Asset loaded : 1611\n",
            "Shapefile extent : [1740507.1581502  5420048.34765005 1755776.95354986 5443033.48509979]\n",
            "Asset loaded : 74245\n"
          ],
          "name": "stdout"
        }
      ]
    },
    {
      "cell_type": "markdown",
      "metadata": {
        "id": "4GaVJa1x9t9J",
        "colab_type": "text"
      },
      "source": [
        "**Validation**\n",
        "---\n",
        "\n"
      ]
    },
    {
      "cell_type": "markdown",
      "metadata": {
        "id": "2dLNrPf--mYU",
        "colab_type": "text"
      },
      "source": [
        "Create plot for CBD\n",
        "\n",
        "\n",
        "*   Left - CBD, Monte Carlo 7M rows\n",
        "*   Right - CBD, CTGAN 7M rows from CBD 70000 rows\n",
        "\n"
      ]
    },
    {
      "cell_type": "code",
      "metadata": {
        "id": "N2omZ43CFa9W",
        "colab_type": "code",
        "colab": {}
      },
      "source": [
        "CBD_MonteCarloSim = gpd.read_file(outputDir / 'smallBurnedBuildings.shp')\n",
        "CBD_MonteCarloSim[\"count\"] = pd.to_numeric(CBD_MonteCarloSim[\"count\"])\n",
        "CBD_CTGAN = merge_coordinates_export_shape(count_df, gdfCBD, \"CBD_SyntheticCTGANmapBurnedBuildings\")\n",
        "# plot\n",
        "fig, (ax1, ax2) = plt.subplots(ncols=2, sharex=True, sharey=True)\n",
        "CBD_MonteCarlo.plot(ax=ax1, column='count', cmap='seismic', legend=True)\n",
        "CBD_CTGAN.plot(ax=ax2, column='count', cmap='seismic', legend=True)"
      ],
      "execution_count": 0,
      "outputs": []
    },
    {
      "cell_type": "markdown",
      "metadata": {
        "colab_type": "text",
        "id": "suMMpc-A_M1P"
      },
      "source": [
        "Create plot for Wellington region\n",
        "\n",
        "\n",
        "*   Left - Wellington region, Monte Carlo 500M rows\n",
        "*   Right - Wellington region, CTGAN 7M rows from CBD 70000 rows\n",
        "\n"
      ]
    },
    {
      "cell_type": "code",
      "metadata": {
        "id": "EHSgsK5R_dnJ",
        "colab_type": "code",
        "colab": {}
      },
      "source": [
        "region_MonteCarloSim = gpd.read_file('/content/drive/My Drive/04_Cloud/01_Work/GNS/008_FFE/runs/results/burned_buildings.shp')\n",
        "region_MonteCarloSim[\"count\"] = pd.to_numeric(CBD_MonteCarloSim[\"count\"])\n",
        "region_CTGAN = merge_coordinates_export_shape(count_df, gdfCBD, \"Regional_SyntheticCTGANmapBurnedBuildings\")\n",
        "# plot\n",
        "fig, (ax1, ax2) = plt.subplots(ncols=2, sharex=True, sharey=True)\n",
        "CBD_MonteCarlo.plot(ax=ax1, column='count', cmap='seismic', legend=True)\n",
        "CBD_CTGAN.plot(ax=ax2, column='count', cmap='seismic', legend=True)"
      ],
      "execution_count": 0,
      "outputs": []
    }
  ]
}