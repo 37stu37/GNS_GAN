{
  "nbformat": 4,
  "nbformat_minor": 0,
  "metadata": {
    "colab": {
      "name": "ctgan.ipynb",
      "provenance": [],
      "toc_visible": true,
      "include_colab_link": true
    },
    "kernelspec": {
      "name": "python3",
      "display_name": "Python 3"
    },
    "accelerator": "GPU"
  },
  "cells": [
    {
      "cell_type": "markdown",
      "metadata": {
        "id": "view-in-github",
        "colab_type": "text"
      },
      "source": [
        "<a href=\"https://colab.research.google.com/github/37stu37/GNS_GAN/blob/master/ctgan.ipynb\" target=\"_parent\"><img src=\"https://colab.research.google.com/assets/colab-badge.svg\" alt=\"Open In Colab\"/></a>"
      ]
    },
    {
      "cell_type": "markdown",
      "metadata": {
        "id": "4nhtkMOdu0ux",
        "colab_type": "text"
      },
      "source": [
        "**import**\n",
        "---\n",
        "\n"
      ]
    },
    {
      "cell_type": "code",
      "metadata": {
        "id": "zyFECzwiiuGf",
        "colab_type": "code",
        "colab": {
          "base_uri": "https://localhost:8080/",
          "height": 34
        },
        "outputId": "53dc0585-e7f1-4234-9465-342cceaab151"
      },
      "source": [
        "from google.colab import drive\n",
        "drive.mount('/content/drive')"
      ],
      "execution_count": 1,
      "outputs": [
        {
          "output_type": "stream",
          "text": [
            "Drive already mounted at /content/drive; to attempt to forcibly remount, call drive.mount(\"/content/drive\", force_remount=True).\n"
          ],
          "name": "stdout"
        }
      ]
    },
    {
      "cell_type": "code",
      "metadata": {
        "id": "OlVx1O6wul0O",
        "colab_type": "code",
        "colab": {}
      },
      "source": [
        "# import pandas as pd\n",
        "from pathlib import Path"
      ],
      "execution_count": 0,
      "outputs": []
    },
    {
      "cell_type": "code",
      "metadata": {
        "id": "1I8FeT9uvBRR",
        "colab_type": "code",
        "colab": {}
      },
      "source": [
        "outputDir = Path('/content/drive/My Drive/Colab Notebooks/02_output')"
      ],
      "execution_count": 0,
      "outputs": []
    },
    {
      "cell_type": "code",
      "metadata": {
        "id": "QlAGPJgdvIWP",
        "colab_type": "code",
        "colab": {}
      },
      "source": [
        "data = pd.read_parquet(outputDir / 'smallMonteCarlo2500runs.parquet')"
      ],
      "execution_count": 0,
      "outputs": []
    },
    {
      "cell_type": "markdown",
      "metadata": {
        "id": "fe8m30YFxnuh",
        "colab_type": "text"
      },
      "source": [
        "**Data processing**\n",
        "---\n",
        "\n"
      ]
    },
    {
      "cell_type": "code",
      "metadata": {
        "id": "kwRvoR5qxY4C",
        "colab_type": "code",
        "colab": {}
      },
      "source": [
        "data.reset_index(inplace=True)\n",
        "data.drop(['index', 'scenario', 'pid'], axis=1, inplace=True)"
      ],
      "execution_count": 0,
      "outputs": []
    },
    {
      "cell_type": "code",
      "metadata": {
        "id": "lQSic0rdz635",
        "colab_type": "code",
        "outputId": "3c7eccbf-3624-49d0-e40c-e5bd2e863175",
        "colab": {
          "base_uri": "https://localhost:8080/",
          "height": 34
        }
      },
      "source": [
        "len(data) #; data.columns"
      ],
      "execution_count": 7,
      "outputs": [
        {
          "output_type": "execute_result",
          "data": {
            "text/plain": [
              "7864124"
            ]
          },
          "metadata": {
            "tags": []
          },
          "execution_count": 7
        }
      ]
    },
    {
      "cell_type": "code",
      "metadata": {
        "id": "KXQLopazz34r",
        "colab_type": "code",
        "colab": {}
      },
      "source": [
        "trainingSample = data.sample(n=70000)\n",
        "discrete_columns = ['source', 'target']"
      ],
      "execution_count": 0,
      "outputs": []
    },
    {
      "cell_type": "code",
      "metadata": {
        "id": "3JvOa3Vm6lEu",
        "colab_type": "code",
        "colab": {
          "base_uri": "https://localhost:8080/",
          "height": 187
        },
        "outputId": "92e35055-593f-4fdb-d391-56616287e7b1"
      },
      "source": [
        "trainingSample.info()"
      ],
      "execution_count": 9,
      "outputs": [
        {
          "output_type": "stream",
          "text": [
            "<class 'pandas.core.frame.DataFrame'>\n",
            "Int64Index: 70000 entries, 2235019 to 4295981\n",
            "Data columns (total 5 columns):\n",
            "source        70000 non-null int64\n",
            "target        70000 non-null int64\n",
            "distance      70000 non-null float64\n",
            "bearing       70000 non-null float64\n",
            "IgnProb_bl    70000 non-null float64\n",
            "dtypes: float64(3), int64(2)\n",
            "memory usage: 3.2 MB\n"
          ],
          "name": "stdout"
        }
      ]
    },
    {
      "cell_type": "markdown",
      "metadata": {
        "id": "wtNlfK8E3wJS",
        "colab_type": "text"
      },
      "source": [
        "**CTGAN**"
      ]
    },
    {
      "cell_type": "code",
      "metadata": {
        "id": "tFDUytOdx20X",
        "colab_type": "code",
        "colab": {}
      },
      "source": [
        "%%capture\n",
        "!pip install ctgan "
      ],
      "execution_count": 0,
      "outputs": []
    },
    {
      "cell_type": "code",
      "metadata": {
        "id": "NVYsNMQm0nt4",
        "colab_type": "code",
        "outputId": "b347a592-1aa2-4192-c776-fcca16193b6d",
        "colab": {
          "base_uri": "https://localhost:8080/",
          "height": 1000
        }
      },
      "source": [
        "%%time\n",
        "from ctgan import CTGANSynthesizer\n",
        "\n",
        "e = 85\n",
        "ctgan = CTGANSynthesizer()\n",
        "ctgan.fit(trainingSample, discrete_columns, epochs=e)"
      ],
      "execution_count": 12,
      "outputs": [
        {
          "output_type": "stream",
          "text": [
            "Epoch 1, Loss G: 7.2030, Loss D: -0.0443\n",
            "Epoch 2, Loss G: 6.7535, Loss D: -0.0179\n",
            "Epoch 3, Loss G: 4.7185, Loss D: -0.0407\n",
            "Epoch 4, Loss G: 0.4268, Loss D: 0.0278\n",
            "Epoch 5, Loss G: -0.4192, Loss D: -0.0369\n",
            "Epoch 6, Loss G: -0.6078, Loss D: 0.0071\n",
            "Epoch 7, Loss G: -0.8324, Loss D: 0.0762\n",
            "Epoch 8, Loss G: -0.9830, Loss D: -0.0050\n",
            "Epoch 9, Loss G: -1.0644, Loss D: -0.0336\n",
            "Epoch 10, Loss G: -1.1443, Loss D: 0.0433\n",
            "Epoch 11, Loss G: -1.2133, Loss D: 0.0200\n",
            "Epoch 12, Loss G: -1.1548, Loss D: -0.0295\n",
            "Epoch 13, Loss G: -1.2031, Loss D: 0.0101\n",
            "Epoch 14, Loss G: -1.2158, Loss D: 0.0078\n",
            "Epoch 15, Loss G: -1.2219, Loss D: 0.0021\n",
            "Epoch 16, Loss G: -1.2199, Loss D: 0.0580\n",
            "Epoch 17, Loss G: -1.1471, Loss D: -0.0143\n",
            "Epoch 18, Loss G: -1.1540, Loss D: -0.0076\n",
            "Epoch 19, Loss G: -1.1976, Loss D: -0.0014\n",
            "Epoch 20, Loss G: -1.1934, Loss D: -0.0056\n",
            "Epoch 21, Loss G: -1.1418, Loss D: 0.0313\n",
            "Epoch 22, Loss G: -1.1192, Loss D: 0.0460\n",
            "Epoch 23, Loss G: -1.0699, Loss D: 0.0052\n",
            "Epoch 24, Loss G: -1.0849, Loss D: -0.0239\n",
            "Epoch 25, Loss G: -1.0563, Loss D: 0.0011\n",
            "Epoch 26, Loss G: -0.9816, Loss D: -0.0580\n",
            "Epoch 27, Loss G: -0.9604, Loss D: -0.1081\n",
            "Epoch 28, Loss G: -0.9019, Loss D: 0.0627\n",
            "Epoch 29, Loss G: -0.8955, Loss D: -0.0197\n",
            "Epoch 30, Loss G: -0.7369, Loss D: 0.0936\n",
            "Epoch 31, Loss G: -0.8428, Loss D: 0.0146\n",
            "Epoch 32, Loss G: -0.7756, Loss D: 0.0618\n",
            "Epoch 33, Loss G: -0.6497, Loss D: -0.0403\n",
            "Epoch 34, Loss G: -0.6432, Loss D: 0.0818\n",
            "Epoch 35, Loss G: -0.5327, Loss D: 0.0157\n",
            "Epoch 36, Loss G: -0.6737, Loss D: 0.0085\n",
            "Epoch 37, Loss G: -0.5625, Loss D: -0.1408\n",
            "Epoch 38, Loss G: -0.5915, Loss D: -0.0032\n",
            "Epoch 39, Loss G: -0.4709, Loss D: -0.0038\n",
            "Epoch 40, Loss G: -0.5509, Loss D: -0.0516\n",
            "Epoch 41, Loss G: -0.4814, Loss D: 0.0107\n",
            "Epoch 42, Loss G: -0.2750, Loss D: -0.0514\n",
            "Epoch 43, Loss G: -0.4283, Loss D: 0.0632\n",
            "Epoch 44, Loss G: -0.4578, Loss D: 0.0878\n",
            "Epoch 45, Loss G: -0.3966, Loss D: -0.0041\n",
            "Epoch 46, Loss G: -0.3973, Loss D: 0.0111\n",
            "Epoch 47, Loss G: -0.4672, Loss D: 0.0360\n",
            "Epoch 48, Loss G: -0.4263, Loss D: 0.0238\n",
            "Epoch 49, Loss G: -0.3771, Loss D: -0.0641\n",
            "Epoch 50, Loss G: -0.4665, Loss D: -0.0697\n",
            "Epoch 51, Loss G: -0.3886, Loss D: 0.0015\n",
            "Epoch 52, Loss G: -0.4892, Loss D: 0.1086\n",
            "Epoch 53, Loss G: -0.4146, Loss D: -0.0257\n",
            "Epoch 54, Loss G: -0.4947, Loss D: -0.0876\n",
            "Epoch 55, Loss G: -0.3673, Loss D: -0.0728\n",
            "Epoch 56, Loss G: -0.4082, Loss D: -0.0709\n",
            "Epoch 57, Loss G: -0.2459, Loss D: -0.0430\n",
            "Epoch 58, Loss G: -0.3954, Loss D: -0.1159\n",
            "Epoch 59, Loss G: -0.2926, Loss D: -0.0852\n",
            "Epoch 60, Loss G: -0.2928, Loss D: 0.0154\n",
            "Epoch 61, Loss G: -0.3895, Loss D: -0.1307\n",
            "Epoch 62, Loss G: -0.3316, Loss D: -0.0419\n",
            "Epoch 63, Loss G: -0.2813, Loss D: -0.0206\n",
            "Epoch 64, Loss G: -0.2580, Loss D: -0.1224\n",
            "Epoch 65, Loss G: -0.2563, Loss D: 0.0142\n",
            "Epoch 66, Loss G: -0.3868, Loss D: -0.1093\n",
            "Epoch 67, Loss G: -0.3482, Loss D: 0.0349\n",
            "Epoch 68, Loss G: -0.4778, Loss D: 0.0179\n",
            "Epoch 69, Loss G: -0.4853, Loss D: 0.0611\n",
            "Epoch 70, Loss G: -0.3796, Loss D: -0.0038\n",
            "Epoch 71, Loss G: -0.3404, Loss D: -0.0073\n",
            "Epoch 72, Loss G: -0.3094, Loss D: -0.0293\n",
            "Epoch 73, Loss G: -0.3678, Loss D: -0.1112\n",
            "Epoch 74, Loss G: -0.3468, Loss D: 0.0830\n",
            "Epoch 75, Loss G: -0.4977, Loss D: -0.0576\n",
            "Epoch 76, Loss G: -0.3850, Loss D: -0.1059\n",
            "Epoch 77, Loss G: -0.3995, Loss D: -0.0801\n",
            "Epoch 78, Loss G: -0.4117, Loss D: 0.0562\n",
            "Epoch 79, Loss G: -0.4658, Loss D: 0.0933\n",
            "Epoch 80, Loss G: -0.3294, Loss D: -0.0650\n",
            "Epoch 81, Loss G: -0.3538, Loss D: 0.0283\n",
            "Epoch 82, Loss G: -0.3901, Loss D: 0.0725\n",
            "Epoch 83, Loss G: -0.3241, Loss D: -0.0725\n",
            "Epoch 84, Loss G: -0.3284, Loss D: -0.0013\n",
            "Epoch 85, Loss G: -0.2945, Loss D: 0.0195\n",
            "CPU times: user 19min 13s, sys: 8min 5s, total: 27min 18s\n",
            "Wall time: 27min 8s\n"
          ],
          "name": "stdout"
        }
      ]
    },
    {
      "cell_type": "markdown",
      "metadata": {
        "id": "mui448CBCIZD",
        "colab_type": "text"
      },
      "source": [
        "**save ML model**"
      ]
    },
    {
      "cell_type": "code",
      "metadata": {
        "id": "ZlV8Mna-CNLb",
        "colab_type": "code",
        "colab": {}
      },
      "source": [
        "MLpath = outputDir / 'ctganOutput' / f'ctganTabular_{e}epochs.pt'\n",
        "# torch.save(ctgan, path)\n",
        "torch.save(ctgan.state_dict(), MLpath)\n",
        "\n",
        "# and to reload it \n",
        "# model = TheModelClass(*args, **kwargs)\n",
        "# model.load_state_dict(torch.load(PATH))\n",
        "# model.eval()"
      ],
      "execution_count": 0,
      "outputs": []
    },
    {
      "cell_type": "markdown",
      "metadata": {
        "id": "jKu1r_Ri1LT4",
        "colab_type": "text"
      },
      "source": [
        "**Generate synthetic data**"
      ]
    },
    {
      "cell_type": "code",
      "metadata": {
        "id": "_Mv7Q3RoBG9F",
        "colab_type": "code",
        "colab": {}
      },
      "source": [
        "!pip show pandas"
      ],
      "execution_count": 0,
      "outputs": []
    },
    {
      "cell_type": "code",
      "metadata": {
        "id": "QLHp8-SzArOp",
        "colab_type": "code",
        "colab": {
          "base_uri": "https://localhost:8080/",
          "height": 344
        },
        "outputId": "950de563-2cc7-4ac1-aff5-0ef4956c4653"
      },
      "source": [
        "!pip install pandas==1.0.4"
      ],
      "execution_count": 20,
      "outputs": [
        {
          "output_type": "stream",
          "text": [
            "Collecting pandas==1.0.4\n",
            "\u001b[?25l  Downloading https://files.pythonhosted.org/packages/8e/86/c14387d6813ebadb7bf61b9ad270ffff111c8b587e4d266e07de774e385e/pandas-1.0.4-cp36-cp36m-manylinux1_x86_64.whl (10.1MB)\n",
            "\u001b[K     |████████████████████████████████| 10.1MB 5.6MB/s \n",
            "\u001b[?25hRequirement already satisfied: numpy>=1.13.3 in /usr/local/lib/python3.6/dist-packages (from pandas==1.0.4) (1.18.4)\n",
            "Requirement already satisfied: pytz>=2017.2 in /usr/local/lib/python3.6/dist-packages (from pandas==1.0.4) (2018.9)\n",
            "Requirement already satisfied: python-dateutil>=2.6.1 in /usr/local/lib/python3.6/dist-packages (from pandas==1.0.4) (2.8.1)\n",
            "Requirement already satisfied: six>=1.5 in /usr/local/lib/python3.6/dist-packages (from python-dateutil>=2.6.1->pandas==1.0.4) (1.12.0)\n",
            "\u001b[31mERROR: ctgan 0.2.1 has requirement pandas<0.26,>=0.24, but you'll have pandas 1.0.4 which is incompatible.\u001b[0m\n",
            "Installing collected packages: pandas\n",
            "  Found existing installation: pandas 0.25.3\n",
            "    Uninstalling pandas-0.25.3:\n",
            "      Successfully uninstalled pandas-0.25.3\n",
            "Successfully installed pandas-1.0.4\n"
          ],
          "name": "stdout"
        },
        {
          "output_type": "display_data",
          "data": {
            "application/vnd.colab-display-data+json": {
              "pip_warning": {
                "packages": [
                  "pandas"
                ]
              }
            }
          },
          "metadata": {
            "tags": []
          }
        }
      ]
    },
    {
      "cell_type": "code",
      "metadata": {
        "id": "gHEkrph9KmuU",
        "colab_type": "code",
        "colab": {}
      },
      "source": [
        "samples = ctgan.sample(100000)\n",
        "/content/drive/My Drive/Colab Notebooks/02_output/ctganOutput"
      ],
      "execution_count": 0,
      "outputs": []
    },
    {
      "cell_type": "code",
      "metadata": {
        "id": "PpYMLRRZ0umh",
        "colab_type": "code",
        "colab": {
          "base_uri": "https://localhost:8080/",
          "height": 255
        },
        "outputId": "42fec5ad-9606-4de8-d57a-a8433ea0d146"
      },
      "source": [
        "%%time\n",
        "s = 100000\n",
        "for v in range(100):\n",
        "  print(v)\n",
        "  samples = ctgan.sample(s)\n",
        "  samples.to_parquet(outputDir / 'ctganOutput' / f'smallSyntheticCTGAN{s}samplesVersion{v}.parquet', engine='pyarrow')"
      ],
      "execution_count": 31,
      "outputs": [
        {
          "output_type": "stream",
          "text": [
            "88\n",
            "89\n",
            "90\n",
            "91\n",
            "92\n",
            "93\n",
            "94\n",
            "95\n",
            "96\n",
            "97\n",
            "98\n",
            "99\n",
            "CPU times: user 10min 7s, sys: 1min 28s, total: 11min 36s\n",
            "Wall time: 11min 38s\n"
          ],
          "name": "stdout"
        }
      ]
    },
    {
      "cell_type": "markdown",
      "metadata": {
        "id": "7T6sXdUCa5km",
        "colab_type": "text"
      },
      "source": [
        ""
      ]
    },
    {
      "cell_type": "code",
      "metadata": {
        "id": "aBNJ5hNda3cR",
        "colab_type": "code",
        "colab": {
          "base_uri": "https://localhost:8080/",
          "height": 207
        },
        "outputId": "5267ecde-5361-48c1-d333-1bb4cf6f310c"
      },
      "source": [
        "!pip install memory_profiler"
      ],
      "execution_count": 34,
      "outputs": [
        {
          "output_type": "stream",
          "text": [
            "Collecting memory_profiler\n",
            "  Downloading https://files.pythonhosted.org/packages/f4/03/175d380294b2333b9b79c2f2aa235eb90ee95e3ddef644497a9455404312/memory_profiler-0.57.0.tar.gz\n",
            "Requirement already satisfied: psutil in /usr/local/lib/python3.6/dist-packages (from memory_profiler) (5.4.8)\n",
            "Building wheels for collected packages: memory-profiler\n",
            "  Building wheel for memory-profiler (setup.py) ... \u001b[?25l\u001b[?25hdone\n",
            "  Created wheel for memory-profiler: filename=memory_profiler-0.57.0-cp36-none-any.whl size=28992 sha256=d2f1392f124246b1874da449c935e8152b47b34a19a286f709236b5a41c92a37\n",
            "  Stored in directory: /root/.cache/pip/wheels/74/20/b5/20964ef97be73d2c3a695c9cad7bccd96d1e3e737a8163861f\n",
            "Successfully built memory-profiler\n",
            "Installing collected packages: memory-profiler\n",
            "Successfully installed memory-profiler-0.57.0\n"
          ],
          "name": "stdout"
        }
      ]
    },
    {
      "cell_type": "code",
      "metadata": {
        "id": "BiH168Rrfho6",
        "colab_type": "code",
        "colab": {
          "base_uri": "https://localhost:8080/",
          "height": 51
        },
        "outputId": "befa9cd7-8d95-4f3b-c61a-5df222df7899"
      },
      "source": [
        "import glob\n",
        "import os\n",
        "import dask\n",
        "import dask.dataframe as dd\n",
        "from dask.distributed import Client\n",
        "import memory_profiler\n",
        "%load_ext memory_profiler\n",
        "\n",
        "pathCTGANoutput = outputDir / 'ctganOutput'\n",
        "pathShapefile = '/content/drive/My Drive/Colab Notebooks/01_githubRepo/FFE/data/shapefile'\n",
        "\n",
        "@dask.delayed\n",
        "def read_and_concatenate_parquets(prefix, path=pathCTGANoutput):\n",
        "  L = []\n",
        "  files = glob.glob(os.path.join(path, prefix))# output_scenario_0_step_0.parquet\n",
        "  for file in files:\n",
        "    print(\"file loaded : {}\".format(file))\n",
        "    pqt = dd.read_parquet(file)\n",
        "    L.append(pqt)\n",
        "  df = dd.concat(L)\n",
        "  return df\n",
        "\n",
        "\n",
        "def count_fid_occurences(df):\n",
        "  count = df['source'].value_counts().compute()\n",
        "  count_df = pd.DataFrame({'source': count.index, 'count': count.values})\n",
        "  return count_df\n",
        "\n",
        "\n",
        "def load_shapefile(file_name, minx, miny, maxx, maxy, path=pathShapefile):\n",
        "    # crop data\n",
        "    bbox = box(minx, miny, maxx, maxy)\n",
        "    # building point dataset\n",
        "    gdf_buildings = gpd.read_file(os.path.join(path,file_name), bbox=bbox)\n",
        "    max_extent = gdf_buildings.total_bounds\n",
        "    data_size = getsizeof(gdf_buildings) /(1024.0**3)\n",
        "    print(\"Shapefile extent : {}\".format(max_extent))\n",
        "    print(\"Asset loaded : {}\".format(len(gdf_buildings)))\n",
        "    # gdf_buildings.plot(column='IgnProb_bl', cmap='hsv', legend=True)\n",
        "    return gdf_buildings\n",
        "\n",
        "\n",
        "def merge_coordinates_export_shape(ddf, gdf, name_output, path=pathCTGANoutput):\n",
        "  gdf = gdf[['TARGET_FID', 'geometry']]\n",
        "  df = pd.DataFrame(gdf)\n",
        "  # ddf = ddf.compute()\n",
        "  df_merge = ddf.merge(df, how='left', left_on='source', right_on='TARGET_FID')\n",
        "  gdf_merge = gpd.GeoDataFrame(df_merge, geometry='geometry')\n",
        "  gdf_merge.to_file(os.path.join(path, name_output + \".shp\"))\n",
        "\n",
        "  f, ax = plt.subplots(1, figsize=(12, 12))\n",
        "  countPlot = gdf_merge.plot(column='count', cmap='seismic', legend=True, ax=ax)\n",
        "  plt.savefig(os.path.join(path, 'smallSyntheticMonteCarlo.jpg'), dpi=300)\n",
        "  plt.show()\n",
        "  return gdf_merge"
      ],
      "execution_count": 39,
      "outputs": [
        {
          "output_type": "stream",
          "text": [
            "The memory_profiler extension is already loaded. To reload it, use:\n",
            "  %reload_ext memory_profiler\n"
          ],
          "name": "stdout"
        }
      ]
    },
    {
      "cell_type": "code",
      "metadata": {
        "id": "WOpzlZG_gH7I",
        "colab_type": "code",
        "colab": {
          "base_uri": "https://localhost:8080/",
          "height": 68
        },
        "outputId": "b1c4927d-b540-4b15-b19c-af3abd7d6455"
      },
      "source": [
        "%%time\n",
        "%%memit\n",
        "ddf = read_and_concatenate_parquets(\"smallSyntheticCTGAN*\")\n",
        "count_df = count_fid_occurences(ddf)"
      ],
      "execution_count": 40,
      "outputs": [
        {
          "output_type": "stream",
          "text": [
            "peak memory: 6836.73 MiB, increment: 16.86 MiB\n",
            "CPU times: user 12.1 s, sys: 1.97 s, total: 14 s\n",
            "Wall time: 14.7 s\n"
          ],
          "name": "stdout"
        }
      ]
    },
    {
      "cell_type": "code",
      "metadata": {
        "id": "jZ8T3CSdb-HF",
        "colab_type": "code",
        "colab": {}
      },
      "source": [
        "count_df"
      ],
      "execution_count": 0,
      "outputs": []
    },
    {
      "cell_type": "code",
      "metadata": {
        "id": "Tej_bi1bZMOV",
        "colab_type": "code",
        "colab": {}
      },
      "source": [
        "gdf = load_shapefile(\"buildings_raw.shp\", 1748570, 5425500, 1749500, 5427600) # small\n",
        "gdf_count = merge_coordinates_export_shape(count_df, gdf, \"smallBurnedBuildings\")"
      ],
      "execution_count": 0,
      "outputs": []
    },
    {
      "cell_type": "markdown",
      "metadata": {
        "id": "4GaVJa1x9t9J",
        "colab_type": "text"
      },
      "source": [
        "**Validation**\n",
        "---\n",
        "\n"
      ]
    },
    {
      "cell_type": "code",
      "metadata": {
        "id": "rtFeIeShCrzm",
        "colab_type": "code",
        "colab": {}
      },
      "source": [
        "# from FFEpostprocessing.ipynb import load_shapefile, count_fid_occurences, merge_coordinates_export_shape # comment out some def"
      ],
      "execution_count": 0,
      "outputs": []
    },
    {
      "cell_type": "code",
      "metadata": {
        "id": "ybpQw5ERFVmA",
        "colab_type": "code",
        "colab": {}
      },
      "source": [
        "# shapefile = load_shapefile(\"buildings_raw.shp\", 1748570, 5425500, 1749500, 5427600) # small"
      ],
      "execution_count": 0,
      "outputs": []
    },
    {
      "cell_type": "code",
      "metadata": {
        "id": "N2omZ43CFa9W",
        "colab_type": "code",
        "colab": {}
      },
      "source": [
        "# gdf_count_GAN = merge_coordinates_export_shape(count_df, gdf, \"smallBurnedBuildings\")"
      ],
      "execution_count": 0,
      "outputs": []
    }
  ]
}