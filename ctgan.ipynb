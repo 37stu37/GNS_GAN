{
  "nbformat": 4,
  "nbformat_minor": 0,
  "metadata": {
    "colab": {
      "name": "ctgan.ipynb",
      "provenance": [],
      "mount_file_id": "1Qe-HnGSNPoKdpd86IEw4ZkmfuW1pVWqT",
      "authorship_tag": "ABX9TyPvk7+C4MRcDm8YZSFrHs/g",
      "include_colab_link": true
    },
    "kernelspec": {
      "name": "python3",
      "display_name": "Python 3"
    },
    "accelerator": "GPU"
  },
  "cells": [
    {
      "cell_type": "markdown",
      "metadata": {
        "id": "view-in-github",
        "colab_type": "text"
      },
      "source": [
        "<a href=\"https://colab.research.google.com/github/37stu37/GNS_GAN/blob/master/ctgan.ipynb\" target=\"_parent\"><img src=\"https://colab.research.google.com/assets/colab-badge.svg\" alt=\"Open In Colab\"/></a>"
      ]
    },
    {
      "cell_type": "markdown",
      "metadata": {
        "id": "4nhtkMOdu0ux",
        "colab_type": "text"
      },
      "source": [
        "**import**\n",
        "---\n",
        "\n"
      ]
    },
    {
      "cell_type": "code",
      "metadata": {
        "id": "OlVx1O6wul0O",
        "colab_type": "code",
        "colab": {}
      },
      "source": [
        "import pandas as pd\n",
        "import pathlib as Path"
      ],
      "execution_count": 0,
      "outputs": []
    },
    {
      "cell_type": "code",
      "metadata": {
        "id": "Mn3U7DWcvQqe",
        "colab_type": "code",
        "colab": {
          "base_uri": "https://localhost:8080/",
          "height": 34
        },
        "outputId": "73615e0c-bc63-4ae6-8da9-64e389b10610"
      },
      "source": [
        "%cd /content/drive/My Drive/Colab Notebooks/01_githubRepo/GNS_GAN"
      ],
      "execution_count": 2,
      "outputs": [
        {
          "output_type": "stream",
          "text": [
            "/content/drive/My Drive/Colab Notebooks/01_githubRepo/GNS_GAN\n"
          ],
          "name": "stdout"
        }
      ]
    },
    {
      "cell_type": "code",
      "metadata": {
        "id": "1I8FeT9uvBRR",
        "colab_type": "code",
        "colab": {}
      },
      "source": [
        "outputDir = '../../02_output'"
      ],
      "execution_count": 0,
      "outputs": []
    },
    {
      "cell_type": "code",
      "metadata": {
        "id": "QlAGPJgdvIWP",
        "colab_type": "code",
        "colab": {}
      },
      "source": [
        "data = pd.read_parquet(outputDir + '/smallMonteCarlo2500runs.parquet')"
      ],
      "execution_count": 0,
      "outputs": []
    },
    {
      "cell_type": "markdown",
      "metadata": {
        "id": "fe8m30YFxnuh",
        "colab_type": "text"
      },
      "source": [
        "**Data processing**\n",
        "---\n",
        "\n"
      ]
    },
    {
      "cell_type": "code",
      "metadata": {
        "id": "kwRvoR5qxY4C",
        "colab_type": "code",
        "colab": {}
      },
      "source": [
        "data.reset_index(inplace=True)\n",
        "data.drop(['index', 'scenario', 'pid'], axis=1, inplace=True)"
      ],
      "execution_count": 0,
      "outputs": []
    },
    {
      "cell_type": "code",
      "metadata": {
        "id": "lQSic0rdz635",
        "colab_type": "code",
        "colab": {
          "base_uri": "https://localhost:8080/",
          "height": 34
        },
        "outputId": "2a7e4db6-61cf-4c09-94e7-ffa007948dc4"
      },
      "source": [
        "len(data) #; data.columns"
      ],
      "execution_count": 7,
      "outputs": [
        {
          "output_type": "execute_result",
          "data": {
            "text/plain": [
              "Index(['source', 'target', 'distance', 'bearing', 'IgnProb_bl'], dtype='object')"
            ]
          },
          "metadata": {
            "tags": []
          },
          "execution_count": 7
        }
      ]
    },
    {
      "cell_type": "code",
      "metadata": {
        "id": "KXQLopazz34r",
        "colab_type": "code",
        "colab": {}
      },
      "source": [
        "trainingSample = data.sample(n=70000)\n",
        "discrete_columns = ['source', 'target']"
      ],
      "execution_count": 0,
      "outputs": []
    },
    {
      "cell_type": "code",
      "metadata": {
        "id": "3JvOa3Vm6lEu",
        "colab_type": "code",
        "colab": {}
      },
      "source": [
        "trainingSample.info()"
      ],
      "execution_count": 0,
      "outputs": []
    },
    {
      "cell_type": "markdown",
      "metadata": {
        "id": "wtNlfK8E3wJS",
        "colab_type": "text"
      },
      "source": [
        "**CTGAN**"
      ]
    },
    {
      "cell_type": "code",
      "metadata": {
        "id": "tFDUytOdx20X",
        "colab_type": "code",
        "colab": {}
      },
      "source": [
        "%%capture\n",
        "!pip install ctgan "
      ],
      "execution_count": 0,
      "outputs": []
    },
    {
      "cell_type": "code",
      "metadata": {
        "id": "NVYsNMQm0nt4",
        "colab_type": "code",
        "colab": {
          "base_uri": "https://localhost:8080/",
          "height": 1000
        },
        "outputId": "48e801f8-8be1-4714-dcc1-1c0d53ceb299"
      },
      "source": [
        "%%time\n",
        "from ctgan import CTGANSynthesizer\n",
        "\n",
        "ctgan = CTGANSynthesizer()\n",
        "ctgan.fit(trainingSample, discrete_columns)"
      ],
      "execution_count": 0,
      "outputs": [
        {
          "output_type": "stream",
          "text": [
            "Epoch 1, Loss G: 7.2501, Loss D: -0.0195\n",
            "Epoch 2, Loss G: 6.7852, Loss D: 0.0095\n",
            "Epoch 3, Loss G: 4.7395, Loss D: 0.0002\n",
            "Epoch 4, Loss G: 0.5496, Loss D: -0.0637\n",
            "Epoch 5, Loss G: -0.3295, Loss D: 0.0223\n",
            "Epoch 6, Loss G: -0.5452, Loss D: -0.0406\n",
            "Epoch 7, Loss G: -0.7048, Loss D: -0.0027\n",
            "Epoch 8, Loss G: -0.8074, Loss D: 0.0254\n",
            "Epoch 9, Loss G: -0.9780, Loss D: -0.0082\n",
            "Epoch 10, Loss G: -1.0572, Loss D: 0.0345\n",
            "Epoch 11, Loss G: -0.9820, Loss D: 0.0068\n",
            "Epoch 12, Loss G: -1.0484, Loss D: -0.0465\n",
            "Epoch 13, Loss G: -1.0510, Loss D: 0.0010\n",
            "Epoch 14, Loss G: -1.0513, Loss D: 0.0130\n",
            "Epoch 15, Loss G: -1.0337, Loss D: 0.0216\n",
            "Epoch 16, Loss G: -1.1064, Loss D: 0.0597\n",
            "Epoch 17, Loss G: -1.1119, Loss D: 0.0035\n",
            "Epoch 18, Loss G: -1.0944, Loss D: -0.0010\n",
            "Epoch 19, Loss G: -1.0848, Loss D: 0.0096\n",
            "Epoch 20, Loss G: -1.0420, Loss D: 0.0295\n",
            "Epoch 21, Loss G: -0.9930, Loss D: -0.0510\n",
            "Epoch 22, Loss G: -0.9908, Loss D: 0.0941\n",
            "Epoch 23, Loss G: -0.9213, Loss D: 0.0115\n",
            "Epoch 24, Loss G: -0.8075, Loss D: -0.0092\n",
            "Epoch 25, Loss G: -0.8267, Loss D: -0.0062\n",
            "Epoch 26, Loss G: -0.7084, Loss D: -0.0533\n",
            "Epoch 27, Loss G: -0.8030, Loss D: -0.0014\n",
            "Epoch 28, Loss G: -0.7506, Loss D: 0.0596\n",
            "Epoch 29, Loss G: -0.7083, Loss D: 0.0461\n",
            "Epoch 30, Loss G: -0.6388, Loss D: -0.0465\n",
            "Epoch 31, Loss G: -0.5404, Loss D: 0.1307\n",
            "Epoch 32, Loss G: -0.6433, Loss D: 0.1022\n",
            "Epoch 33, Loss G: -0.4419, Loss D: -0.0775\n",
            "Epoch 34, Loss G: -0.4476, Loss D: 0.0547\n",
            "Epoch 35, Loss G: -0.4526, Loss D: -0.0110\n",
            "Epoch 36, Loss G: -0.5804, Loss D: 0.0651\n",
            "Epoch 37, Loss G: -0.5424, Loss D: -0.1003\n",
            "Epoch 38, Loss G: -0.5217, Loss D: 0.0440\n",
            "Epoch 39, Loss G: -0.4884, Loss D: -0.0406\n",
            "Epoch 40, Loss G: -0.4463, Loss D: -0.0129\n",
            "Epoch 41, Loss G: -0.4395, Loss D: -0.0011\n",
            "Epoch 42, Loss G: -0.5061, Loss D: -0.0222\n",
            "Epoch 43, Loss G: -0.5012, Loss D: 0.0629\n",
            "Epoch 44, Loss G: -0.3375, Loss D: 0.0249\n",
            "Epoch 45, Loss G: -0.4714, Loss D: -0.0309\n",
            "Epoch 46, Loss G: -0.4091, Loss D: 0.0492\n",
            "Epoch 47, Loss G: -0.3202, Loss D: 0.0090\n",
            "Epoch 48, Loss G: -0.3214, Loss D: 0.2024\n",
            "Epoch 49, Loss G: -0.3448, Loss D: 0.0911\n",
            "Epoch 50, Loss G: -0.3215, Loss D: 0.0038\n",
            "Epoch 51, Loss G: -0.3157, Loss D: 0.0112\n",
            "Epoch 52, Loss G: -0.2597, Loss D: 0.0334\n",
            "Epoch 53, Loss G: -0.2501, Loss D: -0.0425\n",
            "Epoch 54, Loss G: -0.2374, Loss D: -0.0754\n",
            "Epoch 55, Loss G: -0.1957, Loss D: -0.0196\n",
            "Epoch 56, Loss G: -0.1780, Loss D: -0.0022\n",
            "Epoch 57, Loss G: -0.2383, Loss D: -0.0846\n",
            "Epoch 58, Loss G: -0.2603, Loss D: -0.0780\n",
            "Epoch 59, Loss G: -0.2822, Loss D: 0.0617\n",
            "Epoch 60, Loss G: -0.2263, Loss D: 0.0485\n",
            "Epoch 61, Loss G: -0.2618, Loss D: -0.0126\n",
            "Epoch 62, Loss G: -0.1992, Loss D: 0.0702\n",
            "Epoch 63, Loss G: -0.2018, Loss D: 0.0458\n",
            "Epoch 64, Loss G: -0.1742, Loss D: 0.1041\n",
            "Epoch 65, Loss G: -0.1483, Loss D: -0.0509\n",
            "Epoch 66, Loss G: -0.2342, Loss D: -0.0391\n",
            "Epoch 67, Loss G: -0.1521, Loss D: 0.0140\n",
            "Epoch 68, Loss G: -0.2457, Loss D: -0.0255\n",
            "Epoch 69, Loss G: -0.2066, Loss D: -0.0951\n",
            "Epoch 70, Loss G: -0.1760, Loss D: -0.0627\n",
            "Epoch 71, Loss G: -0.0805, Loss D: -0.0225\n",
            "Epoch 72, Loss G: -0.0403, Loss D: -0.0593\n",
            "Epoch 73, Loss G: -0.0544, Loss D: -0.0691\n",
            "Epoch 74, Loss G: -0.0933, Loss D: -0.0261\n",
            "Epoch 75, Loss G: -0.0737, Loss D: -0.0573\n",
            "Epoch 76, Loss G: -0.2037, Loss D: 0.1512\n",
            "Epoch 77, Loss G: -0.0992, Loss D: 0.0329\n",
            "Epoch 78, Loss G: -0.0758, Loss D: 0.0293\n",
            "Epoch 79, Loss G: -0.1594, Loss D: 0.0032\n",
            "Epoch 80, Loss G: -0.1314, Loss D: -0.0450\n",
            "Epoch 81, Loss G: -0.1098, Loss D: -0.0002\n",
            "Epoch 82, Loss G: -0.0925, Loss D: -0.0228\n",
            "Epoch 83, Loss G: -0.0899, Loss D: 0.0721\n",
            "Epoch 84, Loss G: -0.1417, Loss D: 0.0003\n",
            "Epoch 85, Loss G: -0.0872, Loss D: 0.0851\n",
            "Epoch 86, Loss G: -0.1401, Loss D: -0.0204\n",
            "Epoch 87, Loss G: -0.1160, Loss D: 0.0704\n",
            "Epoch 88, Loss G: -0.1251, Loss D: -0.0810\n",
            "Epoch 89, Loss G: -0.1630, Loss D: -0.1031\n",
            "Epoch 90, Loss G: -0.1434, Loss D: 0.0279\n",
            "Epoch 91, Loss G: -0.0830, Loss D: -0.0201\n",
            "Epoch 92, Loss G: -0.1473, Loss D: 0.1374\n",
            "Epoch 93, Loss G: -0.0945, Loss D: 0.0471\n",
            "Epoch 94, Loss G: -0.0370, Loss D: 0.0698\n",
            "Epoch 95, Loss G: 0.0319, Loss D: 0.0405\n",
            "Epoch 96, Loss G: -0.1640, Loss D: 0.0305\n",
            "Epoch 97, Loss G: -0.1728, Loss D: -0.0217\n",
            "Epoch 98, Loss G: -0.1695, Loss D: -0.0070\n",
            "Epoch 99, Loss G: -0.2582, Loss D: 0.0455\n",
            "Epoch 100, Loss G: -0.1336, Loss D: 0.0153\n",
            "Epoch 101, Loss G: -0.2203, Loss D: 0.0424\n",
            "Epoch 102, Loss G: -0.1599, Loss D: -0.0235\n",
            "Epoch 103, Loss G: -0.2144, Loss D: 0.0959\n",
            "Epoch 104, Loss G: -0.2183, Loss D: -0.0245\n",
            "Epoch 105, Loss G: -0.2614, Loss D: 0.1169\n",
            "Epoch 106, Loss G: -0.2652, Loss D: 0.0528\n",
            "Epoch 107, Loss G: -0.2566, Loss D: 0.0835\n",
            "Epoch 108, Loss G: -0.3510, Loss D: -0.0170\n",
            "Epoch 109, Loss G: -0.2263, Loss D: 0.1822\n",
            "Epoch 110, Loss G: -0.2543, Loss D: 0.0021\n",
            "Epoch 111, Loss G: -0.2554, Loss D: 0.0977\n",
            "Epoch 112, Loss G: -0.2397, Loss D: 0.0203\n",
            "Epoch 113, Loss G: -0.2221, Loss D: 0.0631\n",
            "Epoch 114, Loss G: -0.2278, Loss D: 0.0485\n",
            "Epoch 115, Loss G: -0.1953, Loss D: -0.0302\n",
            "Epoch 116, Loss G: -0.1867, Loss D: -0.0986\n",
            "Epoch 117, Loss G: -0.1504, Loss D: 0.0055\n",
            "Epoch 118, Loss G: -0.1246, Loss D: -0.0747\n",
            "Epoch 119, Loss G: -0.2045, Loss D: -0.0375\n",
            "Epoch 120, Loss G: -0.1538, Loss D: -0.0625\n",
            "Epoch 121, Loss G: -0.1729, Loss D: 0.0496\n",
            "Epoch 122, Loss G: -0.1846, Loss D: 0.0503\n",
            "Epoch 123, Loss G: -0.1328, Loss D: 0.0847\n",
            "Epoch 124, Loss G: -0.1327, Loss D: -0.0920\n",
            "Epoch 125, Loss G: -0.2224, Loss D: 0.0944\n",
            "Epoch 126, Loss G: -0.1138, Loss D: 0.0517\n",
            "Epoch 127, Loss G: -0.1491, Loss D: -0.0721\n",
            "Epoch 128, Loss G: -0.1591, Loss D: -0.0579\n",
            "Epoch 129, Loss G: -0.0521, Loss D: 0.0101\n",
            "Epoch 130, Loss G: -0.1277, Loss D: -0.0348\n",
            "Epoch 131, Loss G: -0.1482, Loss D: -0.0217\n",
            "Epoch 132, Loss G: -0.1286, Loss D: 0.0484\n",
            "Epoch 133, Loss G: -0.0778, Loss D: -0.0301\n",
            "Epoch 134, Loss G: -0.1657, Loss D: 0.0964\n",
            "Epoch 135, Loss G: -0.1087, Loss D: -0.1772\n",
            "Epoch 136, Loss G: -0.0050, Loss D: -0.0504\n",
            "Epoch 137, Loss G: -0.1683, Loss D: 0.0304\n",
            "Epoch 138, Loss G: -0.0917, Loss D: -0.1245\n",
            "Epoch 139, Loss G: 0.0107, Loss D: 0.0240\n",
            "Epoch 140, Loss G: 0.0341, Loss D: -0.0420\n",
            "Epoch 141, Loss G: -0.1553, Loss D: -0.1374\n",
            "Epoch 142, Loss G: -0.0441, Loss D: -0.0358\n",
            "Epoch 143, Loss G: -0.0225, Loss D: -0.0736\n",
            "Epoch 144, Loss G: -0.1147, Loss D: 0.0340\n",
            "Epoch 145, Loss G: 0.0086, Loss D: -0.0553\n",
            "Epoch 146, Loss G: -0.0380, Loss D: 0.0317\n",
            "Epoch 147, Loss G: -0.1145, Loss D: 0.0227\n",
            "Epoch 148, Loss G: -0.0116, Loss D: -0.0901\n",
            "Epoch 149, Loss G: -0.1517, Loss D: -0.0156\n",
            "Epoch 150, Loss G: -0.1020, Loss D: 0.0187\n",
            "Epoch 151, Loss G: -0.1963, Loss D: -0.0093\n",
            "Epoch 152, Loss G: -0.1226, Loss D: 0.0391\n",
            "Epoch 153, Loss G: -0.1378, Loss D: 0.0423\n",
            "Epoch 154, Loss G: -0.1171, Loss D: -0.0663\n",
            "Epoch 155, Loss G: -0.0532, Loss D: 0.0887\n",
            "Epoch 156, Loss G: -0.2864, Loss D: -0.0929\n",
            "Epoch 157, Loss G: -0.1617, Loss D: -0.0174\n",
            "Epoch 158, Loss G: 0.0476, Loss D: -0.1525\n",
            "Epoch 159, Loss G: -0.0457, Loss D: 0.0446\n",
            "Epoch 160, Loss G: -0.0692, Loss D: 0.0609\n",
            "Epoch 161, Loss G: 0.0283, Loss D: -0.0730\n",
            "Epoch 162, Loss G: -0.0473, Loss D: 0.1765\n",
            "Epoch 163, Loss G: -0.0162, Loss D: -0.0375\n",
            "Epoch 164, Loss G: -0.1523, Loss D: -0.0791\n",
            "Epoch 165, Loss G: 0.1310, Loss D: -0.1355\n",
            "Epoch 166, Loss G: -0.1207, Loss D: 0.0075\n",
            "Epoch 167, Loss G: -0.0044, Loss D: 0.0569\n",
            "Epoch 168, Loss G: -0.1192, Loss D: -0.1048\n",
            "Epoch 169, Loss G: -0.1527, Loss D: -0.0041\n",
            "Epoch 170, Loss G: -0.0329, Loss D: 0.0744\n",
            "Epoch 171, Loss G: -0.0508, Loss D: 0.0500\n",
            "Epoch 172, Loss G: -0.1203, Loss D: -0.0062\n",
            "Epoch 173, Loss G: 0.0551, Loss D: 0.0791\n",
            "Epoch 174, Loss G: -0.0817, Loss D: -0.0455\n",
            "Epoch 175, Loss G: -0.1398, Loss D: -0.0166\n",
            "Epoch 176, Loss G: -0.0800, Loss D: -0.0327\n",
            "Epoch 177, Loss G: -0.0921, Loss D: 0.0519\n",
            "Epoch 178, Loss G: -0.0039, Loss D: -0.0403\n"
          ],
          "name": "stdout"
        }
      ]
    },
    {
      "cell_type": "markdown",
      "metadata": {
        "id": "jKu1r_Ri1LT4",
        "colab_type": "text"
      },
      "source": [
        "**Generate synthetic data**"
      ]
    },
    {
      "cell_type": "code",
      "metadata": {
        "id": "PpYMLRRZ0umh",
        "colab_type": "code",
        "colab": {}
      },
      "source": [
        "samples = ctgan.sample(1000)"
      ],
      "execution_count": 0,
      "outputs": []
    },
    {
      "cell_type": "markdown",
      "metadata": {
        "id": "4GaVJa1x9t9J",
        "colab_type": "text"
      },
      "source": [
        "**Validation**\n",
        "---\n",
        "\n"
      ]
    },
    {
      "cell_type": "code",
      "metadata": {
        "id": "rtFeIeShCrzm",
        "colab_type": "code",
        "colab": {}
      },
      "source": [
        "from FFEpostprocessing.ipynb import load_shapefile, count_fid_occurences, merge_coordinates_export_shape # comment out some def"
      ],
      "execution_count": 0,
      "outputs": []
    },
    {
      "cell_type": "code",
      "metadata": {
        "id": "ybpQw5ERFVmA",
        "colab_type": "code",
        "colab": {}
      },
      "source": [
        "shapefile = load_shapefile(\"buildings_raw.shp\", 1748570, 5425500, 1749500, 5427600) # small"
      ],
      "execution_count": 0,
      "outputs": []
    },
    {
      "cell_type": "code",
      "metadata": {
        "id": "N2omZ43CFa9W",
        "colab_type": "code",
        "colab": {}
      },
      "source": [
        "gdf_count_GAN = merge_coordinates_export_shape(count_df, gdf, \"smallBurnedBuildings\")"
      ],
      "execution_count": 0,
      "outputs": []
    }
  ]
}